{
  "nbformat": 4,
  "nbformat_minor": 0,
  "metadata": {
    "colab": {
      "name": "LendingClub_Loan.ipynb",
      "provenance": [],
      "collapsed_sections": []
    },
    "kernelspec": {
      "name": "python3",
      "display_name": "Python 3"
    },
    "language_info": {
      "name": "python"
    },
    "accelerator": "GPU"
  },
  "cells": [
    {
      "cell_type": "code",
      "metadata": {
        "id": "JIJ-Yoj3TrDc"
      },
      "source": [
        "!pip install -U -q PyDrive\n",
        "from pydrive.auth import GoogleAuth\n",
        "from pydrive.drive import GoogleDrive\n",
        "from google.colab import auth\n",
        "from oauth2client.client import GoogleCredentials"
      ],
      "execution_count": null,
      "outputs": []
    },
    {
      "cell_type": "code",
      "metadata": {
        "id": "94CONm3HTsgY"
      },
      "source": [
        "auth.authenticate_user()\n",
        "gauth = GoogleAuth()\n",
        "gauth.credentials = GoogleCredentials.get_application_default()\n",
        "drive = GoogleDrive(gauth)\n"
      ],
      "execution_count": null,
      "outputs": []
    },
    {
      "cell_type": "code",
      "metadata": {
        "id": "SQIUjTbyT1B6"
      },
      "source": [
        "downloaded = drive.CreateFile({'id':'1PKGtSJRnewjIRUhGAyg6Nlo5LbsHGJ8M'}) \n",
        "downloaded.GetContentFile('lending_club_loan_two.csv') \n"
      ],
      "execution_count": null,
      "outputs": []
    },
    {
      "cell_type": "code",
      "metadata": {
        "id": "_LCIgblsUr5X"
      },
      "source": [
        "import numpy as np\n",
        "import pandas as pd\n",
        "import matplotlib.pyplot as plt\n",
        "import seaborn as sns\n",
        "sns.set()"
      ],
      "execution_count": null,
      "outputs": []
    },
    {
      "cell_type": "code",
      "metadata": {
        "id": "WZlsUmU_Ucrw"
      },
      "source": [
        "df = pd.read_csv('lending_club_loan_two.csv')"
      ],
      "execution_count": null,
      "outputs": []
    },
    {
      "cell_type": "code",
      "metadata": {
        "colab": {
          "base_uri": "https://localhost:8080/",
          "height": 738
        },
        "id": "GmMVFEhyUpuj",
        "outputId": "52196045-2d78-423a-8f48-c3d22f6c43a2"
      },
      "source": [
        "df"
      ],
      "execution_count": null,
      "outputs": [
        {
          "output_type": "execute_result",
          "data": {
            "text/html": [
              "<div>\n",
              "<style scoped>\n",
              "    .dataframe tbody tr th:only-of-type {\n",
              "        vertical-align: middle;\n",
              "    }\n",
              "\n",
              "    .dataframe tbody tr th {\n",
              "        vertical-align: top;\n",
              "    }\n",
              "\n",
              "    .dataframe thead th {\n",
              "        text-align: right;\n",
              "    }\n",
              "</style>\n",
              "<table border=\"1\" class=\"dataframe\">\n",
              "  <thead>\n",
              "    <tr style=\"text-align: right;\">\n",
              "      <th></th>\n",
              "      <th>loan_amnt</th>\n",
              "      <th>term</th>\n",
              "      <th>int_rate</th>\n",
              "      <th>installment</th>\n",
              "      <th>grade</th>\n",
              "      <th>sub_grade</th>\n",
              "      <th>emp_title</th>\n",
              "      <th>emp_length</th>\n",
              "      <th>home_ownership</th>\n",
              "      <th>annual_inc</th>\n",
              "      <th>verification_status</th>\n",
              "      <th>issue_d</th>\n",
              "      <th>loan_status</th>\n",
              "      <th>purpose</th>\n",
              "      <th>title</th>\n",
              "      <th>dti</th>\n",
              "      <th>earliest_cr_line</th>\n",
              "      <th>open_acc</th>\n",
              "      <th>pub_rec</th>\n",
              "      <th>revol_bal</th>\n",
              "      <th>revol_util</th>\n",
              "      <th>total_acc</th>\n",
              "      <th>initial_list_status</th>\n",
              "      <th>application_type</th>\n",
              "      <th>mort_acc</th>\n",
              "      <th>pub_rec_bankruptcies</th>\n",
              "      <th>address</th>\n",
              "    </tr>\n",
              "  </thead>\n",
              "  <tbody>\n",
              "    <tr>\n",
              "      <th>0</th>\n",
              "      <td>10000.0</td>\n",
              "      <td>36 months</td>\n",
              "      <td>11.44</td>\n",
              "      <td>329.48</td>\n",
              "      <td>B</td>\n",
              "      <td>B4</td>\n",
              "      <td>Marketing</td>\n",
              "      <td>10+ years</td>\n",
              "      <td>RENT</td>\n",
              "      <td>117000.0</td>\n",
              "      <td>Not Verified</td>\n",
              "      <td>Jan-2015</td>\n",
              "      <td>Fully Paid</td>\n",
              "      <td>vacation</td>\n",
              "      <td>Vacation</td>\n",
              "      <td>26.24</td>\n",
              "      <td>Jun-1990</td>\n",
              "      <td>16.0</td>\n",
              "      <td>0.0</td>\n",
              "      <td>36369.0</td>\n",
              "      <td>41.8</td>\n",
              "      <td>25.0</td>\n",
              "      <td>w</td>\n",
              "      <td>INDIVIDUAL</td>\n",
              "      <td>0.0</td>\n",
              "      <td>0.0</td>\n",
              "      <td>0174 Michelle Gateway\\r\\nMendozaberg, OK 22690</td>\n",
              "    </tr>\n",
              "    <tr>\n",
              "      <th>1</th>\n",
              "      <td>8000.0</td>\n",
              "      <td>36 months</td>\n",
              "      <td>11.99</td>\n",
              "      <td>265.68</td>\n",
              "      <td>B</td>\n",
              "      <td>B5</td>\n",
              "      <td>Credit analyst</td>\n",
              "      <td>4 years</td>\n",
              "      <td>MORTGAGE</td>\n",
              "      <td>65000.0</td>\n",
              "      <td>Not Verified</td>\n",
              "      <td>Jan-2015</td>\n",
              "      <td>Fully Paid</td>\n",
              "      <td>debt_consolidation</td>\n",
              "      <td>Debt consolidation</td>\n",
              "      <td>22.05</td>\n",
              "      <td>Jul-2004</td>\n",
              "      <td>17.0</td>\n",
              "      <td>0.0</td>\n",
              "      <td>20131.0</td>\n",
              "      <td>53.3</td>\n",
              "      <td>27.0</td>\n",
              "      <td>f</td>\n",
              "      <td>INDIVIDUAL</td>\n",
              "      <td>3.0</td>\n",
              "      <td>0.0</td>\n",
              "      <td>1076 Carney Fort Apt. 347\\r\\nLoganmouth, SD 05113</td>\n",
              "    </tr>\n",
              "    <tr>\n",
              "      <th>2</th>\n",
              "      <td>15600.0</td>\n",
              "      <td>36 months</td>\n",
              "      <td>10.49</td>\n",
              "      <td>506.97</td>\n",
              "      <td>B</td>\n",
              "      <td>B3</td>\n",
              "      <td>Statistician</td>\n",
              "      <td>&lt; 1 year</td>\n",
              "      <td>RENT</td>\n",
              "      <td>43057.0</td>\n",
              "      <td>Source Verified</td>\n",
              "      <td>Jan-2015</td>\n",
              "      <td>Fully Paid</td>\n",
              "      <td>credit_card</td>\n",
              "      <td>Credit card refinancing</td>\n",
              "      <td>12.79</td>\n",
              "      <td>Aug-2007</td>\n",
              "      <td>13.0</td>\n",
              "      <td>0.0</td>\n",
              "      <td>11987.0</td>\n",
              "      <td>92.2</td>\n",
              "      <td>26.0</td>\n",
              "      <td>f</td>\n",
              "      <td>INDIVIDUAL</td>\n",
              "      <td>0.0</td>\n",
              "      <td>0.0</td>\n",
              "      <td>87025 Mark Dale Apt. 269\\r\\nNew Sabrina, WV 05113</td>\n",
              "    </tr>\n",
              "    <tr>\n",
              "      <th>3</th>\n",
              "      <td>7200.0</td>\n",
              "      <td>36 months</td>\n",
              "      <td>6.49</td>\n",
              "      <td>220.65</td>\n",
              "      <td>A</td>\n",
              "      <td>A2</td>\n",
              "      <td>Client Advocate</td>\n",
              "      <td>6 years</td>\n",
              "      <td>RENT</td>\n",
              "      <td>54000.0</td>\n",
              "      <td>Not Verified</td>\n",
              "      <td>Nov-2014</td>\n",
              "      <td>Fully Paid</td>\n",
              "      <td>credit_card</td>\n",
              "      <td>Credit card refinancing</td>\n",
              "      <td>2.60</td>\n",
              "      <td>Sep-2006</td>\n",
              "      <td>6.0</td>\n",
              "      <td>0.0</td>\n",
              "      <td>5472.0</td>\n",
              "      <td>21.5</td>\n",
              "      <td>13.0</td>\n",
              "      <td>f</td>\n",
              "      <td>INDIVIDUAL</td>\n",
              "      <td>0.0</td>\n",
              "      <td>0.0</td>\n",
              "      <td>823 Reid Ford\\r\\nDelacruzside, MA 00813</td>\n",
              "    </tr>\n",
              "    <tr>\n",
              "      <th>4</th>\n",
              "      <td>24375.0</td>\n",
              "      <td>60 months</td>\n",
              "      <td>17.27</td>\n",
              "      <td>609.33</td>\n",
              "      <td>C</td>\n",
              "      <td>C5</td>\n",
              "      <td>Destiny Management Inc.</td>\n",
              "      <td>9 years</td>\n",
              "      <td>MORTGAGE</td>\n",
              "      <td>55000.0</td>\n",
              "      <td>Verified</td>\n",
              "      <td>Apr-2013</td>\n",
              "      <td>Charged Off</td>\n",
              "      <td>credit_card</td>\n",
              "      <td>Credit Card Refinance</td>\n",
              "      <td>33.95</td>\n",
              "      <td>Mar-1999</td>\n",
              "      <td>13.0</td>\n",
              "      <td>0.0</td>\n",
              "      <td>24584.0</td>\n",
              "      <td>69.8</td>\n",
              "      <td>43.0</td>\n",
              "      <td>f</td>\n",
              "      <td>INDIVIDUAL</td>\n",
              "      <td>1.0</td>\n",
              "      <td>0.0</td>\n",
              "      <td>679 Luna Roads\\r\\nGreggshire, VA 11650</td>\n",
              "    </tr>\n",
              "    <tr>\n",
              "      <th>...</th>\n",
              "      <td>...</td>\n",
              "      <td>...</td>\n",
              "      <td>...</td>\n",
              "      <td>...</td>\n",
              "      <td>...</td>\n",
              "      <td>...</td>\n",
              "      <td>...</td>\n",
              "      <td>...</td>\n",
              "      <td>...</td>\n",
              "      <td>...</td>\n",
              "      <td>...</td>\n",
              "      <td>...</td>\n",
              "      <td>...</td>\n",
              "      <td>...</td>\n",
              "      <td>...</td>\n",
              "      <td>...</td>\n",
              "      <td>...</td>\n",
              "      <td>...</td>\n",
              "      <td>...</td>\n",
              "      <td>...</td>\n",
              "      <td>...</td>\n",
              "      <td>...</td>\n",
              "      <td>...</td>\n",
              "      <td>...</td>\n",
              "      <td>...</td>\n",
              "      <td>...</td>\n",
              "      <td>...</td>\n",
              "    </tr>\n",
              "    <tr>\n",
              "      <th>396025</th>\n",
              "      <td>10000.0</td>\n",
              "      <td>60 months</td>\n",
              "      <td>10.99</td>\n",
              "      <td>217.38</td>\n",
              "      <td>B</td>\n",
              "      <td>B4</td>\n",
              "      <td>licensed bankere</td>\n",
              "      <td>2 years</td>\n",
              "      <td>RENT</td>\n",
              "      <td>40000.0</td>\n",
              "      <td>Source Verified</td>\n",
              "      <td>Oct-2015</td>\n",
              "      <td>Fully Paid</td>\n",
              "      <td>debt_consolidation</td>\n",
              "      <td>Debt consolidation</td>\n",
              "      <td>15.63</td>\n",
              "      <td>Nov-2004</td>\n",
              "      <td>6.0</td>\n",
              "      <td>0.0</td>\n",
              "      <td>1990.0</td>\n",
              "      <td>34.3</td>\n",
              "      <td>23.0</td>\n",
              "      <td>w</td>\n",
              "      <td>INDIVIDUAL</td>\n",
              "      <td>0.0</td>\n",
              "      <td>0.0</td>\n",
              "      <td>12951 Williams Crossing\\r\\nJohnnyville, DC 30723</td>\n",
              "    </tr>\n",
              "    <tr>\n",
              "      <th>396026</th>\n",
              "      <td>21000.0</td>\n",
              "      <td>36 months</td>\n",
              "      <td>12.29</td>\n",
              "      <td>700.42</td>\n",
              "      <td>C</td>\n",
              "      <td>C1</td>\n",
              "      <td>Agent</td>\n",
              "      <td>5 years</td>\n",
              "      <td>MORTGAGE</td>\n",
              "      <td>110000.0</td>\n",
              "      <td>Source Verified</td>\n",
              "      <td>Feb-2015</td>\n",
              "      <td>Fully Paid</td>\n",
              "      <td>debt_consolidation</td>\n",
              "      <td>Debt consolidation</td>\n",
              "      <td>21.45</td>\n",
              "      <td>Feb-2006</td>\n",
              "      <td>6.0</td>\n",
              "      <td>0.0</td>\n",
              "      <td>43263.0</td>\n",
              "      <td>95.7</td>\n",
              "      <td>8.0</td>\n",
              "      <td>f</td>\n",
              "      <td>INDIVIDUAL</td>\n",
              "      <td>1.0</td>\n",
              "      <td>0.0</td>\n",
              "      <td>0114 Fowler Field Suite 028\\r\\nRachelborough, ...</td>\n",
              "    </tr>\n",
              "    <tr>\n",
              "      <th>396027</th>\n",
              "      <td>5000.0</td>\n",
              "      <td>36 months</td>\n",
              "      <td>9.99</td>\n",
              "      <td>161.32</td>\n",
              "      <td>B</td>\n",
              "      <td>B1</td>\n",
              "      <td>City Carrier</td>\n",
              "      <td>10+ years</td>\n",
              "      <td>RENT</td>\n",
              "      <td>56500.0</td>\n",
              "      <td>Verified</td>\n",
              "      <td>Oct-2013</td>\n",
              "      <td>Fully Paid</td>\n",
              "      <td>debt_consolidation</td>\n",
              "      <td>pay off credit cards</td>\n",
              "      <td>17.56</td>\n",
              "      <td>Mar-1997</td>\n",
              "      <td>15.0</td>\n",
              "      <td>0.0</td>\n",
              "      <td>32704.0</td>\n",
              "      <td>66.9</td>\n",
              "      <td>23.0</td>\n",
              "      <td>f</td>\n",
              "      <td>INDIVIDUAL</td>\n",
              "      <td>0.0</td>\n",
              "      <td>0.0</td>\n",
              "      <td>953 Matthew Points Suite 414\\r\\nReedfort, NY 7...</td>\n",
              "    </tr>\n",
              "    <tr>\n",
              "      <th>396028</th>\n",
              "      <td>21000.0</td>\n",
              "      <td>60 months</td>\n",
              "      <td>15.31</td>\n",
              "      <td>503.02</td>\n",
              "      <td>C</td>\n",
              "      <td>C2</td>\n",
              "      <td>Gracon Services, Inc</td>\n",
              "      <td>10+ years</td>\n",
              "      <td>MORTGAGE</td>\n",
              "      <td>64000.0</td>\n",
              "      <td>Verified</td>\n",
              "      <td>Aug-2012</td>\n",
              "      <td>Fully Paid</td>\n",
              "      <td>debt_consolidation</td>\n",
              "      <td>Loanforpayoff</td>\n",
              "      <td>15.88</td>\n",
              "      <td>Nov-1990</td>\n",
              "      <td>9.0</td>\n",
              "      <td>0.0</td>\n",
              "      <td>15704.0</td>\n",
              "      <td>53.8</td>\n",
              "      <td>20.0</td>\n",
              "      <td>f</td>\n",
              "      <td>INDIVIDUAL</td>\n",
              "      <td>5.0</td>\n",
              "      <td>0.0</td>\n",
              "      <td>7843 Blake Freeway Apt. 229\\r\\nNew Michael, FL...</td>\n",
              "    </tr>\n",
              "    <tr>\n",
              "      <th>396029</th>\n",
              "      <td>2000.0</td>\n",
              "      <td>36 months</td>\n",
              "      <td>13.61</td>\n",
              "      <td>67.98</td>\n",
              "      <td>C</td>\n",
              "      <td>C2</td>\n",
              "      <td>Internal Revenue Service</td>\n",
              "      <td>10+ years</td>\n",
              "      <td>RENT</td>\n",
              "      <td>42996.0</td>\n",
              "      <td>Verified</td>\n",
              "      <td>Jun-2010</td>\n",
              "      <td>Fully Paid</td>\n",
              "      <td>debt_consolidation</td>\n",
              "      <td>Toxic Debt Payoff</td>\n",
              "      <td>8.32</td>\n",
              "      <td>Sep-1998</td>\n",
              "      <td>3.0</td>\n",
              "      <td>0.0</td>\n",
              "      <td>4292.0</td>\n",
              "      <td>91.3</td>\n",
              "      <td>19.0</td>\n",
              "      <td>f</td>\n",
              "      <td>INDIVIDUAL</td>\n",
              "      <td>NaN</td>\n",
              "      <td>0.0</td>\n",
              "      <td>787 Michelle Causeway\\r\\nBriannaton, AR 48052</td>\n",
              "    </tr>\n",
              "  </tbody>\n",
              "</table>\n",
              "<p>396030 rows × 27 columns</p>\n",
              "</div>"
            ],
            "text/plain": [
              "        loan_amnt  ...                                            address\n",
              "0         10000.0  ...     0174 Michelle Gateway\\r\\nMendozaberg, OK 22690\n",
              "1          8000.0  ...  1076 Carney Fort Apt. 347\\r\\nLoganmouth, SD 05113\n",
              "2         15600.0  ...  87025 Mark Dale Apt. 269\\r\\nNew Sabrina, WV 05113\n",
              "3          7200.0  ...            823 Reid Ford\\r\\nDelacruzside, MA 00813\n",
              "4         24375.0  ...             679 Luna Roads\\r\\nGreggshire, VA 11650\n",
              "...           ...  ...                                                ...\n",
              "396025    10000.0  ...   12951 Williams Crossing\\r\\nJohnnyville, DC 30723\n",
              "396026    21000.0  ...  0114 Fowler Field Suite 028\\r\\nRachelborough, ...\n",
              "396027     5000.0  ...  953 Matthew Points Suite 414\\r\\nReedfort, NY 7...\n",
              "396028    21000.0  ...  7843 Blake Freeway Apt. 229\\r\\nNew Michael, FL...\n",
              "396029     2000.0  ...      787 Michelle Causeway\\r\\nBriannaton, AR 48052\n",
              "\n",
              "[396030 rows x 27 columns]"
            ]
          },
          "metadata": {
            "tags": []
          },
          "execution_count": 227
        }
      ]
    },
    {
      "cell_type": "code",
      "metadata": {
        "colab": {
          "base_uri": "https://localhost:8080/"
        },
        "id": "rISURGRhVPp5",
        "outputId": "63aafb1c-1493-4138-ee31-263f3d2b8833"
      },
      "source": [
        "df.isnull().sum()"
      ],
      "execution_count": null,
      "outputs": [
        {
          "output_type": "execute_result",
          "data": {
            "text/plain": [
              "loan_amnt                   0\n",
              "term                        0\n",
              "int_rate                    0\n",
              "installment                 0\n",
              "grade                       0\n",
              "sub_grade                   0\n",
              "emp_title               22927\n",
              "emp_length              18301\n",
              "home_ownership              0\n",
              "annual_inc                  0\n",
              "verification_status         0\n",
              "issue_d                     0\n",
              "loan_status                 0\n",
              "purpose                     0\n",
              "title                    1755\n",
              "dti                         0\n",
              "earliest_cr_line            0\n",
              "open_acc                    0\n",
              "pub_rec                     0\n",
              "revol_bal                   0\n",
              "revol_util                276\n",
              "total_acc                   0\n",
              "initial_list_status         0\n",
              "application_type            0\n",
              "mort_acc                37795\n",
              "pub_rec_bankruptcies      535\n",
              "address                     0\n",
              "dtype: int64"
            ]
          },
          "metadata": {
            "tags": []
          },
          "execution_count": 228
        }
      ]
    },
    {
      "cell_type": "code",
      "metadata": {
        "colab": {
          "base_uri": "https://localhost:8080/",
          "height": 303
        },
        "id": "DyZphJerVT8Q",
        "outputId": "51b45ce4-9b60-4736-c1bf-e62fab4fc544"
      },
      "source": [
        "sns.countplot(x= 'loan_status',data=df)"
      ],
      "execution_count": null,
      "outputs": [
        {
          "output_type": "execute_result",
          "data": {
            "text/plain": [
              "<matplotlib.axes._subplots.AxesSubplot at 0x7fcf732cffd0>"
            ]
          },
          "metadata": {
            "tags": []
          },
          "execution_count": 229
        },
        {
          "output_type": "display_data",
          "data": {
            "image/png": "[encoded data removed]",
            "text/plain": [
              "<Figure size 432x288 with 1 Axes>"
            ]
          },
          "metadata": {
            "tags": []
          }
        }
      ]
    },
    {
      "cell_type": "code",
      "metadata": {
        "colab": {
          "base_uri": "https://localhost:8080/",
          "height": 411
        },
        "id": "wA0AZgGLV1DW",
        "outputId": "c3cb2b5c-2aff-4667-d6bd-9ecd5313ef2c"
      },
      "source": [
        "plt.figure(figsize=(12,5))\n",
        "sns.distplot(df['loan_amnt'],kde=False,bins=40)"
      ],
      "execution_count": null,
      "outputs": [
        {
          "output_type": "stream",
          "text": [
            "/usr/local/lib/python3.7/dist-packages/seaborn/distributions.py:2557: FutureWarning: `distplot` is a deprecated function and will be removed in a future version. Please adapt your code to use either `displot` (a figure-level function with similar flexibility) or `histplot` (an axes-level function for histograms).\n",
            "  warnings.warn(msg, FutureWarning)\n"
          ],
          "name": "stderr"
        },
        {
          "output_type": "execute_result",
          "data": {
            "text/plain": [
              "<matplotlib.axes._subplots.AxesSubplot at 0x7fcf6cb74a50>"
            ]
          },
          "metadata": {
            "tags": []
          },
          "execution_count": 230
        },
        {
          "output_type": "display_data",
          "data": {
            "image/png": "[encoded data removed]",
            "text/plain": [
              "<Figure size 864x360 with 1 Axes>"
            ]
          },
          "metadata": {
            "tags": []
          }
        }
      ]
    },
    {
      "cell_type": "code",
      "metadata": {
        "colab": {
          "base_uri": "https://localhost:8080/",
          "height": 509
        },
        "id": "9XHAYNouWyU0",
        "outputId": "2b623043-c122-4438-8b3f-e52c4f3f8d5b"
      },
      "source": [
        "plt.figure(figsize=(12,6))\n",
        "sns.heatmap(df.corr(),annot=True,cmap='viridis')"
      ],
      "execution_count": null,
      "outputs": [
        {
          "output_type": "execute_result",
          "data": {
            "text/plain": [
              "<matplotlib.axes._subplots.AxesSubplot at 0x7fcf6cb00950>"
            ]
          },
          "metadata": {
            "tags": []
          },
          "execution_count": 231
        },
        {
          "output_type": "display_data",
          "data": {
            "image/png": "[encoded data removed]",
            "text/plain": [
              "<Figure size 864x432 with 2 Axes>"
            ]
          },
          "metadata": {
            "tags": []
          }
        }
      ]
    },
    {
      "cell_type": "code",
      "metadata": {
        "colab": {
          "base_uri": "https://localhost:8080/",
          "height": 303
        },
        "id": "jU9Rc31TXlIZ",
        "outputId": "aa9325c0-e09f-465a-eb4a-fee80008523a"
      },
      "source": [
        "sns.scatterplot(x='installment',y='loan_amnt',data=df,markers=False)"
      ],
      "execution_count": null,
      "outputs": [
        {
          "output_type": "execute_result",
          "data": {
            "text/plain": [
              "<matplotlib.axes._subplots.AxesSubplot at 0x7fcf6c8f2cd0>"
            ]
          },
          "metadata": {
            "tags": []
          },
          "execution_count": 232
        },
        {
          "output_type": "display_data",
          "data": {
            "image/png": "[encoded data removed]",
            "text/plain": [
              "<Figure size 432x288 with 1 Axes>"
            ]
          },
          "metadata": {
            "tags": []
          }
        }
      ]
    },
    {
      "cell_type": "code",
      "metadata": {
        "colab": {
          "base_uri": "https://localhost:8080/",
          "height": 303
        },
        "id": "sQ-XAOVHZl2d",
        "outputId": "0c54f546-3ca4-4d8d-a196-0d7d36eaabc8"
      },
      "source": [
        "sns.boxplot(x='loan_status',y='loan_amnt',data=df)"
      ],
      "execution_count": null,
      "outputs": [
        {
          "output_type": "execute_result",
          "data": {
            "text/plain": [
              "<matplotlib.axes._subplots.AxesSubplot at 0x7fcf6c824e90>"
            ]
          },
          "metadata": {
            "tags": []
          },
          "execution_count": 233
        },
        {
          "output_type": "display_data",
          "data": {
            "image/png": "[encoded data removed]",
            "text/plain": [
              "<Figure size 432x288 with 1 Axes>"
            ]
          },
          "metadata": {
            "tags": []
          }
        }
      ]
    },
    {
      "cell_type": "code",
      "metadata": {
        "colab": {
          "base_uri": "https://localhost:8080/",
          "height": 143
        },
        "id": "BMeBxtfEbET7",
        "outputId": "2b1a5ade-888a-49c8-e301-4c6d62e43964"
      },
      "source": [
        "df.groupby('loan_status')['loan_amnt'].describe()"
      ],
      "execution_count": null,
      "outputs": [
        {
          "output_type": "execute_result",
          "data": {
            "text/html": [
              "<div>\n",
              "<style scoped>\n",
              "    .dataframe tbody tr th:only-of-type {\n",
              "        vertical-align: middle;\n",
              "    }\n",
              "\n",
              "    .dataframe tbody tr th {\n",
              "        vertical-align: top;\n",
              "    }\n",
              "\n",
              "    .dataframe thead th {\n",
              "        text-align: right;\n",
              "    }\n",
              "</style>\n",
              "<table border=\"1\" class=\"dataframe\">\n",
              "  <thead>\n",
              "    <tr style=\"text-align: right;\">\n",
              "      <th></th>\n",
              "      <th>count</th>\n",
              "      <th>mean</th>\n",
              "      <th>std</th>\n",
              "      <th>min</th>\n",
              "      <th>25%</th>\n",
              "      <th>50%</th>\n",
              "      <th>75%</th>\n",
              "      <th>max</th>\n",
              "    </tr>\n",
              "    <tr>\n",
              "      <th>loan_status</th>\n",
              "      <th></th>\n",
              "      <th></th>\n",
              "      <th></th>\n",
              "      <th></th>\n",
              "      <th></th>\n",
              "      <th></th>\n",
              "      <th></th>\n",
              "      <th></th>\n",
              "    </tr>\n",
              "  </thead>\n",
              "  <tbody>\n",
              "    <tr>\n",
              "      <th>Charged Off</th>\n",
              "      <td>77673.0</td>\n",
              "      <td>15126.300967</td>\n",
              "      <td>8505.090557</td>\n",
              "      <td>1000.0</td>\n",
              "      <td>8525.0</td>\n",
              "      <td>14000.0</td>\n",
              "      <td>20000.0</td>\n",
              "      <td>40000.0</td>\n",
              "    </tr>\n",
              "    <tr>\n",
              "      <th>Fully Paid</th>\n",
              "      <td>318357.0</td>\n",
              "      <td>13866.878771</td>\n",
              "      <td>8302.319699</td>\n",
              "      <td>500.0</td>\n",
              "      <td>7500.0</td>\n",
              "      <td>12000.0</td>\n",
              "      <td>19225.0</td>\n",
              "      <td>40000.0</td>\n",
              "    </tr>\n",
              "  </tbody>\n",
              "</table>\n",
              "</div>"
            ],
            "text/plain": [
              "                count          mean          std  ...      50%      75%      max\n",
              "loan_status                                       ...                           \n",
              "Charged Off   77673.0  15126.300967  8505.090557  ...  14000.0  20000.0  40000.0\n",
              "Fully Paid   318357.0  13866.878771  8302.319699  ...  12000.0  19225.0  40000.0\n",
              "\n",
              "[2 rows x 8 columns]"
            ]
          },
          "metadata": {
            "tags": []
          },
          "execution_count": 234
        }
      ]
    },
    {
      "cell_type": "code",
      "metadata": {
        "colab": {
          "base_uri": "https://localhost:8080/"
        },
        "id": "c1D4TZRnc1Zz",
        "outputId": "036f14db-8498-4f36-e345-506a50b2814a"
      },
      "source": [
        "df['grade'].unique()"
      ],
      "execution_count": null,
      "outputs": [
        {
          "output_type": "execute_result",
          "data": {
            "text/plain": [
              "array(['B', 'A', 'C', 'E', 'D', 'F', 'G'], dtype=object)"
            ]
          },
          "metadata": {
            "tags": []
          },
          "execution_count": 235
        }
      ]
    },
    {
      "cell_type": "code",
      "metadata": {
        "colab": {
          "base_uri": "https://localhost:8080/"
        },
        "id": "-nnnAD3MdiSH",
        "outputId": "91c6ef07-b3fd-49ad-c6c5-d70da36477a8"
      },
      "source": [
        "df['sub_grade'].unique()"
      ],
      "execution_count": null,
      "outputs": [
        {
          "output_type": "execute_result",
          "data": {
            "text/plain": [
              "array(['B4', 'B5', 'B3', 'A2', 'C5', 'C3', 'A1', 'B2', 'C1', 'A5', 'E4',\n",
              "       'A4', 'A3', 'D1', 'C2', 'B1', 'D3', 'D5', 'D2', 'E1', 'E2', 'E5',\n",
              "       'F4', 'E3', 'D4', 'G1', 'F5', 'G2', 'C4', 'F1', 'F3', 'G5', 'G4',\n",
              "       'F2', 'G3'], dtype=object)"
            ]
          },
          "metadata": {
            "tags": []
          },
          "execution_count": 236
        }
      ]
    },
    {
      "cell_type": "code",
      "metadata": {
        "colab": {
          "base_uri": "https://localhost:8080/",
          "height": 303
        },
        "id": "NoHk3OmvdlW6",
        "outputId": "6d6a0a34-2901-4bff-cfdf-efb195f2fbdb"
      },
      "source": [
        "sns.countplot(x='grade',data=df,hue='loan_status')"
      ],
      "execution_count": null,
      "outputs": [
        {
          "output_type": "execute_result",
          "data": {
            "text/plain": [
              "<matplotlib.axes._subplots.AxesSubplot at 0x7fcf6c7a7250>"
            ]
          },
          "metadata": {
            "tags": []
          },
          "execution_count": 237
        },
        {
          "output_type": "display_data",
          "data": {
            "image/png": "[encoded data removed]",
            "text/plain": [
              "<Figure size 432x288 with 1 Axes>"
            ]
          },
          "metadata": {
            "tags": []
          }
        }
      ]
    },
    {
      "cell_type": "code",
      "metadata": {
        "colab": {
          "base_uri": "https://localhost:8080/",
          "height": 303
        },
        "id": "SI9vQYe_eFFC",
        "outputId": "db36bf21-1009-4dc0-ae8c-8c841ff63746"
      },
      "source": [
        "plt.figure(figsize=(12,4))\n",
        "sub_grade_order = sorted(df['sub_grade'].unique())\n",
        "sns.countplot(x='sub_grade',data=df,order=sub_grade_order,palette='coolwarm',hue='loan_status')"
      ],
      "execution_count": null,
      "outputs": [
        {
          "output_type": "execute_result",
          "data": {
            "text/plain": [
              "<matplotlib.axes._subplots.AxesSubplot at 0x7fcf6c72e510>"
            ]
          },
          "metadata": {
            "tags": []
          },
          "execution_count": 238
        },
        {
          "output_type": "display_data",
          "data": {
            "image/png": "[encoded data removed]",
            "text/plain": [
              "<Figure size 864x288 with 1 Axes>"
            ]
          },
          "metadata": {
            "tags": []
          }
        }
      ]
    },
    {
      "cell_type": "code",
      "metadata": {
        "colab": {
          "base_uri": "https://localhost:8080/",
          "height": 303
        },
        "id": "mDNrYgMwfSrj",
        "outputId": "8bcb2e32-7ea5-4bd4-ab0c-a7e8b0050b06"
      },
      "source": [
        "F_and_G = df[ (df['grade']=='G') | (df['grade']=='F')  ]\n",
        "\n",
        "plt.figure(figsize=(12,4))\n",
        "sub_grade_order = sorted(F_and_G['sub_grade'].unique())\n",
        "sns.countplot(x='sub_grade',data=F_and_G,order=sub_grade_order,palette='coolwarm',hue='loan_status')"
      ],
      "execution_count": null,
      "outputs": [
        {
          "output_type": "execute_result",
          "data": {
            "text/plain": [
              "<matplotlib.axes._subplots.AxesSubplot at 0x7fcf6c72e710>"
            ]
          },
          "metadata": {
            "tags": []
          },
          "execution_count": 239
        },
        {
          "output_type": "display_data",
          "data": {
            "image/png": "[encoded data removed]",
            "text/plain": [
              "<Figure size 864x288 with 1 Axes>"
            ]
          },
          "metadata": {
            "tags": []
          }
        }
      ]
    },
    {
      "cell_type": "code",
      "metadata": {
        "id": "HRyvCys5ictF"
      },
      "source": [
        " df['loan_repaid'] = df['loan_status'].map({'Fully Paid':1,'Charged Off':0}) "
      ],
      "execution_count": null,
      "outputs": []
    },
    {
      "cell_type": "code",
      "metadata": {
        "colab": {
          "base_uri": "https://localhost:8080/",
          "height": 423
        },
        "id": "pEVWwRDqj-EQ",
        "outputId": "46bf2c10-2789-4f60-8b4d-f691ac7e1e6b"
      },
      "source": [
        "df[['loan_repaid','loan_status']]"
      ],
      "execution_count": null,
      "outputs": [
        {
          "output_type": "execute_result",
          "data": {
            "text/html": [
              "<div>\n",
              "<style scoped>\n",
              "    .dataframe tbody tr th:only-of-type {\n",
              "        vertical-align: middle;\n",
              "    }\n",
              "\n",
              "    .dataframe tbody tr th {\n",
              "        vertical-align: top;\n",
              "    }\n",
              "\n",
              "    .dataframe thead th {\n",
              "        text-align: right;\n",
              "    }\n",
              "</style>\n",
              "<table border=\"1\" class=\"dataframe\">\n",
              "  <thead>\n",
              "    <tr style=\"text-align: right;\">\n",
              "      <th></th>\n",
              "      <th>loan_repaid</th>\n",
              "      <th>loan_status</th>\n",
              "    </tr>\n",
              "  </thead>\n",
              "  <tbody>\n",
              "    <tr>\n",
              "      <th>0</th>\n",
              "      <td>1</td>\n",
              "      <td>Fully Paid</td>\n",
              "    </tr>\n",
              "    <tr>\n",
              "      <th>1</th>\n",
              "      <td>1</td>\n",
              "      <td>Fully Paid</td>\n",
              "    </tr>\n",
              "    <tr>\n",
              "      <th>2</th>\n",
              "      <td>1</td>\n",
              "      <td>Fully Paid</td>\n",
              "    </tr>\n",
              "    <tr>\n",
              "      <th>3</th>\n",
              "      <td>1</td>\n",
              "      <td>Fully Paid</td>\n",
              "    </tr>\n",
              "    <tr>\n",
              "      <th>4</th>\n",
              "      <td>0</td>\n",
              "      <td>Charged Off</td>\n",
              "    </tr>\n",
              "    <tr>\n",
              "      <th>...</th>\n",
              "      <td>...</td>\n",
              "      <td>...</td>\n",
              "    </tr>\n",
              "    <tr>\n",
              "      <th>396025</th>\n",
              "      <td>1</td>\n",
              "      <td>Fully Paid</td>\n",
              "    </tr>\n",
              "    <tr>\n",
              "      <th>396026</th>\n",
              "      <td>1</td>\n",
              "      <td>Fully Paid</td>\n",
              "    </tr>\n",
              "    <tr>\n",
              "      <th>396027</th>\n",
              "      <td>1</td>\n",
              "      <td>Fully Paid</td>\n",
              "    </tr>\n",
              "    <tr>\n",
              "      <th>396028</th>\n",
              "      <td>1</td>\n",
              "      <td>Fully Paid</td>\n",
              "    </tr>\n",
              "    <tr>\n",
              "      <th>396029</th>\n",
              "      <td>1</td>\n",
              "      <td>Fully Paid</td>\n",
              "    </tr>\n",
              "  </tbody>\n",
              "</table>\n",
              "<p>396030 rows × 2 columns</p>\n",
              "</div>"
            ],
            "text/plain": [
              "        loan_repaid  loan_status\n",
              "0                 1   Fully Paid\n",
              "1                 1   Fully Paid\n",
              "2                 1   Fully Paid\n",
              "3                 1   Fully Paid\n",
              "4                 0  Charged Off\n",
              "...             ...          ...\n",
              "396025            1   Fully Paid\n",
              "396026            1   Fully Paid\n",
              "396027            1   Fully Paid\n",
              "396028            1   Fully Paid\n",
              "396029            1   Fully Paid\n",
              "\n",
              "[396030 rows x 2 columns]"
            ]
          },
          "metadata": {
            "tags": []
          },
          "execution_count": 241
        }
      ]
    },
    {
      "cell_type": "code",
      "metadata": {
        "colab": {
          "base_uri": "https://localhost:8080/",
          "height": 397
        },
        "id": "x3RnCYfkkBlB",
        "outputId": "1477e5c2-ef2c-4a73-d073-fd7a7e2ef0d7"
      },
      "source": [
        "\n",
        "df.corr()['loan_repaid'].sort_values().drop('loan_repaid').plot(kind='bar')"
      ],
      "execution_count": null,
      "outputs": [
        {
          "output_type": "execute_result",
          "data": {
            "text/plain": [
              "<matplotlib.axes._subplots.AxesSubplot at 0x7fcf6c501890>"
            ]
          },
          "metadata": {
            "tags": []
          },
          "execution_count": 242
        },
        {
          "output_type": "display_data",
          "data": {
            "image/png": "[encoded data removed]",
            "text/plain": [
              "<Figure size 432x288 with 1 Axes>"
            ]
          },
          "metadata": {
            "tags": []
          }
        }
      ]
    },
    {
      "cell_type": "code",
      "metadata": {
        "colab": {
          "base_uri": "https://localhost:8080/"
        },
        "id": "uQlQDYS9lffG",
        "outputId": "22bb8f29-a4e0-434f-858c-ca1a8902a990"
      },
      "source": [
        "df.isnull().sum()"
      ],
      "execution_count": null,
      "outputs": [
        {
          "output_type": "execute_result",
          "data": {
            "text/plain": [
              "loan_amnt                   0\n",
              "term                        0\n",
              "int_rate                    0\n",
              "installment                 0\n",
              "grade                       0\n",
              "sub_grade                   0\n",
              "emp_title               22927\n",
              "emp_length              18301\n",
              "home_ownership              0\n",
              "annual_inc                  0\n",
              "verification_status         0\n",
              "issue_d                     0\n",
              "loan_status                 0\n",
              "purpose                     0\n",
              "title                    1755\n",
              "dti                         0\n",
              "earliest_cr_line            0\n",
              "open_acc                    0\n",
              "pub_rec                     0\n",
              "revol_bal                   0\n",
              "revol_util                276\n",
              "total_acc                   0\n",
              "initial_list_status         0\n",
              "application_type            0\n",
              "mort_acc                37795\n",
              "pub_rec_bankruptcies      535\n",
              "address                     0\n",
              "loan_repaid                 0\n",
              "dtype: int64"
            ]
          },
          "metadata": {
            "tags": []
          },
          "execution_count": 243
        }
      ]
    },
    {
      "cell_type": "code",
      "metadata": {
        "colab": {
          "base_uri": "https://localhost:8080/"
        },
        "id": "be5dQL5WnDze",
        "outputId": "fa50df0b-f05d-4c48-dab3-608e6fa813e8"
      },
      "source": [
        "100 * df.isnull().sum() / len(df)"
      ],
      "execution_count": null,
      "outputs": [
        {
          "output_type": "execute_result",
          "data": {
            "text/plain": [
              "loan_amnt               0.000000\n",
              "term                    0.000000\n",
              "int_rate                0.000000\n",
              "installment             0.000000\n",
              "grade                   0.000000\n",
              "sub_grade               0.000000\n",
              "emp_title               5.789208\n",
              "emp_length              4.621115\n",
              "home_ownership          0.000000\n",
              "annual_inc              0.000000\n",
              "verification_status     0.000000\n",
              "issue_d                 0.000000\n",
              "loan_status             0.000000\n",
              "purpose                 0.000000\n",
              "title                   0.443148\n",
              "dti                     0.000000\n",
              "earliest_cr_line        0.000000\n",
              "open_acc                0.000000\n",
              "pub_rec                 0.000000\n",
              "revol_bal               0.000000\n",
              "revol_util              0.069692\n",
              "total_acc               0.000000\n",
              "initial_list_status     0.000000\n",
              "application_type        0.000000\n",
              "mort_acc                9.543469\n",
              "pub_rec_bankruptcies    0.135091\n",
              "address                 0.000000\n",
              "loan_repaid             0.000000\n",
              "dtype: float64"
            ]
          },
          "metadata": {
            "tags": []
          },
          "execution_count": 244
        }
      ]
    },
    {
      "cell_type": "code",
      "metadata": {
        "colab": {
          "base_uri": "https://localhost:8080/"
        },
        "id": "uoY0e7kJnhV2",
        "outputId": "ec7183bd-8728-4f0e-d9c0-3ab00ee57cc1"
      },
      "source": [
        "df['emp_title'].value_counts()"
      ],
      "execution_count": null,
      "outputs": [
        {
          "output_type": "execute_result",
          "data": {
            "text/plain": [
              "Teacher                                   4389\n",
              "Manager                                   4250\n",
              "Registered Nurse                          1856\n",
              "RN                                        1846\n",
              "Supervisor                                1830\n",
              "                                          ... \n",
              "Northwestern Center Orthopedics              1\n",
              "DRC Operator                                 1\n",
              "Vice President of Investments                1\n",
              "EXELON via Business Systems of America       1\n",
              "Oak Hills Country Club                       1\n",
              "Name: emp_title, Length: 173105, dtype: int64"
            ]
          },
          "metadata": {
            "tags": []
          },
          "execution_count": 245
        }
      ]
    },
    {
      "cell_type": "code",
      "metadata": {
        "id": "6fhFvPg_oQyT"
      },
      "source": [
        "df = df.drop('emp_title',axis=1)"
      ],
      "execution_count": null,
      "outputs": []
    },
    {
      "cell_type": "code",
      "metadata": {
        "colab": {
          "base_uri": "https://localhost:8080/"
        },
        "id": "dz_EZMgvqQ7S",
        "outputId": "07404e50-1bcd-4fb3-f2e0-77133eedb722"
      },
      "source": [
        "sorted(df['emp_length'].dropna().unique())"
      ],
      "execution_count": null,
      "outputs": [
        {
          "output_type": "execute_result",
          "data": {
            "text/plain": [
              "['1 year',\n",
              " '10+ years',\n",
              " '2 years',\n",
              " '3 years',\n",
              " '4 years',\n",
              " '5 years',\n",
              " '6 years',\n",
              " '7 years',\n",
              " '8 years',\n",
              " '9 years',\n",
              " '< 1 year']"
            ]
          },
          "metadata": {
            "tags": []
          },
          "execution_count": 247
        }
      ]
    },
    {
      "cell_type": "code",
      "metadata": {
        "id": "GiG9o3RDqSjD"
      },
      "source": [
        "emp_length_order = ['< 1 year',\n",
        " '1 year',\n",
        " '2 years',\n",
        " '3 years',\n",
        " '4 years',\n",
        " '5 years',\n",
        " '6 years',\n",
        " '7 years',\n",
        " '8 years',\n",
        " '9 years',\n",
        " '10+ years'\n",
        " ]\n"
      ],
      "execution_count": null,
      "outputs": []
    },
    {
      "cell_type": "code",
      "metadata": {
        "colab": {
          "base_uri": "https://localhost:8080/",
          "height": 357
        },
        "id": "cLMRpLguraGU",
        "outputId": "e167f985-0205-41e6-b0ac-b6fd65b480b1"
      },
      "source": [
        "plt.figure(figsize=(12,5))\n",
        "sns.countplot(x='emp_length',data=df,order=emp_length_order,hue='loan_status')"
      ],
      "execution_count": null,
      "outputs": [
        {
          "output_type": "execute_result",
          "data": {
            "text/plain": [
              "<matplotlib.axes._subplots.AxesSubplot at 0x7fcf6c480610>"
            ]
          },
          "metadata": {
            "tags": []
          },
          "execution_count": 249
        },
        {
          "output_type": "display_data",
          "data": {
            "image/png": "[encoded data removed]",
            "text/plain": [
              "<Figure size 864x360 with 1 Axes>"
            ]
          },
          "metadata": {
            "tags": []
          }
        }
      ]
    },
    {
      "cell_type": "code",
      "metadata": {
        "id": "-vvlp869sN32"
      },
      "source": [
        "emp_co = df[df['loan_status']=='Charged Off'].groupby('emp_length').count()['loan_status']"
      ],
      "execution_count": null,
      "outputs": []
    },
    {
      "cell_type": "code",
      "metadata": {
        "id": "Y1W3g4LTK7bS"
      },
      "source": [
        "emp_fp = df[df['loan_status']=='Fully Paid'].groupby('emp_length').count()['loan_status']"
      ],
      "execution_count": null,
      "outputs": []
    },
    {
      "cell_type": "code",
      "metadata": {
        "id": "DIlmKVHqLLzi"
      },
      "source": [
        "emp_len = emp_co/(emp_co+emp_fp)"
      ],
      "execution_count": null,
      "outputs": []
    },
    {
      "cell_type": "code",
      "metadata": {
        "colab": {
          "base_uri": "https://localhost:8080/"
        },
        "id": "1ZdduVmHLRmz",
        "outputId": "f5f5fd15-597f-4c10-e920-24ee62653c6c"
      },
      "source": [
        "emp_len"
      ],
      "execution_count": null,
      "outputs": [
        {
          "output_type": "execute_result",
          "data": {
            "text/plain": [
              "emp_length\n",
              "1 year       0.199135\n",
              "10+ years    0.184186\n",
              "2 years      0.193262\n",
              "3 years      0.195231\n",
              "4 years      0.192385\n",
              "5 years      0.192187\n",
              "6 years      0.189194\n",
              "7 years      0.194774\n",
              "8 years      0.199760\n",
              "9 years      0.200470\n",
              "< 1 year     0.206872\n",
              "Name: loan_status, dtype: float64"
            ]
          },
          "metadata": {
            "tags": []
          },
          "execution_count": 253
        }
      ]
    },
    {
      "cell_type": "code",
      "metadata": {
        "colab": {
          "base_uri": "https://localhost:8080/",
          "height": 349
        },
        "id": "geCgeDrULhvs",
        "outputId": "b3abed06-cda9-4e95-d6c6-a3c353649060"
      },
      "source": [
        "emp_len.plot(kind='bar')\n",
        "plt.ylabel('Charged Off percentge')"
      ],
      "execution_count": null,
      "outputs": [
        {
          "output_type": "execute_result",
          "data": {
            "text/plain": [
              "Text(0, 0.5, 'Charged Off percentge')"
            ]
          },
          "metadata": {
            "tags": []
          },
          "execution_count": 254
        },
        {
          "output_type": "display_data",
          "data": {
            "image/png": "[encoded data removed]",
            "text/plain": [
              "<Figure size 432x288 with 1 Axes>"
            ]
          },
          "metadata": {
            "tags": []
          }
        }
      ]
    },
    {
      "cell_type": "code",
      "metadata": {
        "id": "xmLlaT29LpVG"
      },
      "source": [
        "df = df.drop('emp_length',axis=1)"
      ],
      "execution_count": null,
      "outputs": []
    },
    {
      "cell_type": "code",
      "metadata": {
        "colab": {
          "base_uri": "https://localhost:8080/"
        },
        "id": "RRnEBllmNmBI",
        "outputId": "af58ce3a-ccaa-4fc9-ec31-f918c06c7069"
      },
      "source": [
        "df.isnull().sum()"
      ],
      "execution_count": null,
      "outputs": [
        {
          "output_type": "execute_result",
          "data": {
            "text/plain": [
              "loan_amnt                   0\n",
              "term                        0\n",
              "int_rate                    0\n",
              "installment                 0\n",
              "grade                       0\n",
              "sub_grade                   0\n",
              "home_ownership              0\n",
              "annual_inc                  0\n",
              "verification_status         0\n",
              "issue_d                     0\n",
              "loan_status                 0\n",
              "purpose                     0\n",
              "title                    1755\n",
              "dti                         0\n",
              "earliest_cr_line            0\n",
              "open_acc                    0\n",
              "pub_rec                     0\n",
              "revol_bal                   0\n",
              "revol_util                276\n",
              "total_acc                   0\n",
              "initial_list_status         0\n",
              "application_type            0\n",
              "mort_acc                37795\n",
              "pub_rec_bankruptcies      535\n",
              "address                     0\n",
              "loan_repaid                 0\n",
              "dtype: int64"
            ]
          },
          "metadata": {
            "tags": []
          },
          "execution_count": 256
        }
      ]
    },
    {
      "cell_type": "code",
      "metadata": {
        "colab": {
          "base_uri": "https://localhost:8080/"
        },
        "id": "-uohR_SVO20W",
        "outputId": "a440f588-be0e-4aad-8f23-56536852fbbc"
      },
      "source": [
        " df['title'].value_counts()"
      ],
      "execution_count": null,
      "outputs": [
        {
          "output_type": "execute_result",
          "data": {
            "text/plain": [
              "Debt consolidation                    152472\n",
              "Credit card refinancing                51487\n",
              "Home improvement                       15264\n",
              "Other                                  12930\n",
              "Debt Consolidation                     11608\n",
              "                                       ...  \n",
              "Getting fresh start                        1\n",
              "CC'S                                       1\n",
              "Credit card pay off and shred them         1\n",
              "Loft/Moving Expenses                       1\n",
              "music marketing company                    1\n",
              "Name: title, Length: 48817, dtype: int64"
            ]
          },
          "metadata": {
            "tags": []
          },
          "execution_count": 257
        }
      ]
    },
    {
      "cell_type": "code",
      "metadata": {
        "colab": {
          "base_uri": "https://localhost:8080/"
        },
        "id": "MMrpfFVtXKiF",
        "outputId": "113d7bd1-e2f2-47b7-9178-c277f8a2e9d4"
      },
      "source": [
        " df['purpose'].value_counts()"
      ],
      "execution_count": null,
      "outputs": [
        {
          "output_type": "execute_result",
          "data": {
            "text/plain": [
              "debt_consolidation    234507\n",
              "credit_card            83019\n",
              "home_improvement       24030\n",
              "other                  21185\n",
              "major_purchase          8790\n",
              "small_business          5701\n",
              "car                     4697\n",
              "medical                 4196\n",
              "moving                  2854\n",
              "vacation                2452\n",
              "house                   2201\n",
              "wedding                 1812\n",
              "renewable_energy         329\n",
              "educational              257\n",
              "Name: purpose, dtype: int64"
            ]
          },
          "metadata": {
            "tags": []
          },
          "execution_count": 258
        }
      ]
    },
    {
      "cell_type": "code",
      "metadata": {
        "id": "vyBe_EF0Xgw7"
      },
      "source": [
        "df = df.drop('title',axis=1)"
      ],
      "execution_count": null,
      "outputs": []
    },
    {
      "cell_type": "code",
      "metadata": {
        "colab": {
          "base_uri": "https://localhost:8080/"
        },
        "id": "ctnUbUevZEjt",
        "outputId": "a6b0e8c9-fc61-4098-b87d-34a5f5b56e16"
      },
      "source": [
        "df.isnull().sum()"
      ],
      "execution_count": null,
      "outputs": [
        {
          "output_type": "execute_result",
          "data": {
            "text/plain": [
              "loan_amnt                   0\n",
              "term                        0\n",
              "int_rate                    0\n",
              "installment                 0\n",
              "grade                       0\n",
              "sub_grade                   0\n",
              "home_ownership              0\n",
              "annual_inc                  0\n",
              "verification_status         0\n",
              "issue_d                     0\n",
              "loan_status                 0\n",
              "purpose                     0\n",
              "dti                         0\n",
              "earliest_cr_line            0\n",
              "open_acc                    0\n",
              "pub_rec                     0\n",
              "revol_bal                   0\n",
              "revol_util                276\n",
              "total_acc                   0\n",
              "initial_list_status         0\n",
              "application_type            0\n",
              "mort_acc                37795\n",
              "pub_rec_bankruptcies      535\n",
              "address                     0\n",
              "loan_repaid                 0\n",
              "dtype: int64"
            ]
          },
          "metadata": {
            "tags": []
          },
          "execution_count": 260
        }
      ]
    },
    {
      "cell_type": "code",
      "metadata": {
        "colab": {
          "base_uri": "https://localhost:8080/"
        },
        "id": "R5ciBtoqZ1mT",
        "outputId": "7c490da2-a162-41ea-fc37-9dad8b0ad2e5"
      },
      "source": [
        "df['mort_acc'].value_counts()"
      ],
      "execution_count": null,
      "outputs": [
        {
          "output_type": "execute_result",
          "data": {
            "text/plain": [
              "0.0     139777\n",
              "1.0      60416\n",
              "2.0      49948\n",
              "3.0      38049\n",
              "4.0      27887\n",
              "5.0      18194\n",
              "6.0      11069\n",
              "7.0       6052\n",
              "8.0       3121\n",
              "9.0       1656\n",
              "10.0       865\n",
              "11.0       479\n",
              "12.0       264\n",
              "13.0       146\n",
              "14.0       107\n",
              "15.0        61\n",
              "16.0        37\n",
              "17.0        22\n",
              "18.0        18\n",
              "19.0        15\n",
              "20.0        13\n",
              "24.0        10\n",
              "22.0         7\n",
              "21.0         4\n",
              "25.0         4\n",
              "27.0         3\n",
              "23.0         2\n",
              "32.0         2\n",
              "26.0         2\n",
              "31.0         2\n",
              "30.0         1\n",
              "28.0         1\n",
              "34.0         1\n",
              "Name: mort_acc, dtype: int64"
            ]
          },
          "metadata": {
            "tags": []
          },
          "execution_count": 261
        }
      ]
    },
    {
      "cell_type": "code",
      "metadata": {
        "colab": {
          "base_uri": "https://localhost:8080/"
        },
        "id": "uJFmkinlZ9Z7",
        "outputId": "e5f9d383-99af-4827-a958-5a7e08481c81"
      },
      "source": [
        "df.corr()['mort_acc'].sort_values()"
      ],
      "execution_count": null,
      "outputs": [
        {
          "output_type": "execute_result",
          "data": {
            "text/plain": [
              "int_rate               -0.082583\n",
              "dti                    -0.025439\n",
              "revol_util              0.007514\n",
              "pub_rec                 0.011552\n",
              "pub_rec_bankruptcies    0.027239\n",
              "loan_repaid             0.073111\n",
              "open_acc                0.109205\n",
              "installment             0.193694\n",
              "revol_bal               0.194925\n",
              "loan_amnt               0.222315\n",
              "annual_inc              0.236320\n",
              "total_acc               0.381072\n",
              "mort_acc                1.000000\n",
              "Name: mort_acc, dtype: float64"
            ]
          },
          "metadata": {
            "tags": []
          },
          "execution_count": 262
        }
      ]
    },
    {
      "cell_type": "code",
      "metadata": {
        "id": "wPWiOxo3a0w1"
      },
      "source": [
        "total_acc_avg = df.groupby('total_acc').mean()['mort_acc']"
      ],
      "execution_count": null,
      "outputs": []
    },
    {
      "cell_type": "code",
      "metadata": {
        "colab": {
          "base_uri": "https://localhost:8080/"
        },
        "id": "dNDiDdbtbaXu",
        "outputId": "22a9760b-b2a8-4c66-f6cb-fe3832ac91da"
      },
      "source": [
        "total_acc_avg"
      ],
      "execution_count": null,
      "outputs": [
        {
          "output_type": "execute_result",
          "data": {
            "text/plain": [
              "total_acc\n",
              "2.0      0.000000\n",
              "3.0      0.052023\n",
              "4.0      0.066743\n",
              "5.0      0.103289\n",
              "6.0      0.151293\n",
              "           ...   \n",
              "124.0    1.000000\n",
              "129.0    1.000000\n",
              "135.0    3.000000\n",
              "150.0    2.000000\n",
              "151.0    0.000000\n",
              "Name: mort_acc, Length: 118, dtype: float64"
            ]
          },
          "metadata": {
            "tags": []
          },
          "execution_count": 264
        }
      ]
    },
    {
      "cell_type": "code",
      "metadata": {
        "id": "umSAydCCcnz3"
      },
      "source": [
        " def fill_mort_acc(total_acc,mort_acc):\n",
        "\n",
        "   if np.isnan(mort_acc):\n",
        "     return total_acc_avg[total_acc]\n",
        "   else:\n",
        "     return mort_acc"
      ],
      "execution_count": null,
      "outputs": []
    },
    {
      "cell_type": "code",
      "metadata": {
        "id": "BjQE_RJXfuTM"
      },
      "source": [
        "df['mort_acc'] = df.apply(lambda x: fill_mort_acc(x['total_acc'],x['mort_acc']),axis=1)"
      ],
      "execution_count": null,
      "outputs": []
    },
    {
      "cell_type": "code",
      "metadata": {
        "colab": {
          "base_uri": "https://localhost:8080/"
        },
        "id": "ZGPOkPvAgfrr",
        "outputId": "e410d489-95d0-45c0-bfac-67ca174e7d4d"
      },
      "source": [
        "df.isnull().sum()"
      ],
      "execution_count": null,
      "outputs": [
        {
          "output_type": "execute_result",
          "data": {
            "text/plain": [
              "loan_amnt                 0\n",
              "term                      0\n",
              "int_rate                  0\n",
              "installment               0\n",
              "grade                     0\n",
              "sub_grade                 0\n",
              "home_ownership            0\n",
              "annual_inc                0\n",
              "verification_status       0\n",
              "issue_d                   0\n",
              "loan_status               0\n",
              "purpose                   0\n",
              "dti                       0\n",
              "earliest_cr_line          0\n",
              "open_acc                  0\n",
              "pub_rec                   0\n",
              "revol_bal                 0\n",
              "revol_util              276\n",
              "total_acc                 0\n",
              "initial_list_status       0\n",
              "application_type          0\n",
              "mort_acc                  0\n",
              "pub_rec_bankruptcies    535\n",
              "address                   0\n",
              "loan_repaid               0\n",
              "dtype: int64"
            ]
          },
          "metadata": {
            "tags": []
          },
          "execution_count": 267
        }
      ]
    },
    {
      "cell_type": "code",
      "metadata": {
        "id": "2jcWJ2K5gu69"
      },
      "source": [
        "df = df.dropna()"
      ],
      "execution_count": null,
      "outputs": []
    },
    {
      "cell_type": "code",
      "metadata": {
        "colab": {
          "base_uri": "https://localhost:8080/"
        },
        "id": "F4SRXoHYgyGM",
        "outputId": "890d7e18-12c7-4f2e-f08d-8415cb325009"
      },
      "source": [
        "df.isnull().sum()"
      ],
      "execution_count": null,
      "outputs": [
        {
          "output_type": "execute_result",
          "data": {
            "text/plain": [
              "loan_amnt               0\n",
              "term                    0\n",
              "int_rate                0\n",
              "installment             0\n",
              "grade                   0\n",
              "sub_grade               0\n",
              "home_ownership          0\n",
              "annual_inc              0\n",
              "verification_status     0\n",
              "issue_d                 0\n",
              "loan_status             0\n",
              "purpose                 0\n",
              "dti                     0\n",
              "earliest_cr_line        0\n",
              "open_acc                0\n",
              "pub_rec                 0\n",
              "revol_bal               0\n",
              "revol_util              0\n",
              "total_acc               0\n",
              "initial_list_status     0\n",
              "application_type        0\n",
              "mort_acc                0\n",
              "pub_rec_bankruptcies    0\n",
              "address                 0\n",
              "loan_repaid             0\n",
              "dtype: int64"
            ]
          },
          "metadata": {
            "tags": []
          },
          "execution_count": 269
        }
      ]
    },
    {
      "cell_type": "code",
      "metadata": {
        "colab": {
          "base_uri": "https://localhost:8080/"
        },
        "id": "3tw_lZaeg4ax",
        "outputId": "530b7bac-ad46-46cb-c5f8-280f789b8bea"
      },
      "source": [
        "df.select_dtypes(['object']).columns"
      ],
      "execution_count": null,
      "outputs": [
        {
          "output_type": "execute_result",
          "data": {
            "text/plain": [
              "Index(['term', 'grade', 'sub_grade', 'home_ownership', 'verification_status',\n",
              "       'issue_d', 'loan_status', 'purpose', 'earliest_cr_line',\n",
              "       'initial_list_status', 'application_type', 'address'],\n",
              "      dtype='object')"
            ]
          },
          "metadata": {
            "tags": []
          },
          "execution_count": 270
        }
      ]
    },
    {
      "cell_type": "code",
      "metadata": {
        "colab": {
          "base_uri": "https://localhost:8080/"
        },
        "id": "doK6MxbdBujQ",
        "outputId": "2f6bb931-84d8-4a97-9b19-19e13bd2a7ce"
      },
      "source": [
        "df['term'].value_counts()"
      ],
      "execution_count": null,
      "outputs": [
        {
          "output_type": "execute_result",
          "data": {
            "text/plain": [
              " 36 months    301247\n",
              " 60 months     93972\n",
              "Name: term, dtype: int64"
            ]
          },
          "metadata": {
            "tags": []
          },
          "execution_count": 271
        }
      ]
    },
    {
      "cell_type": "code",
      "metadata": {
        "id": "7iqFdIOBCGGC"
      },
      "source": [
        "df['term'] = df['term'].apply(lambda term: int(term[:3]) )"
      ],
      "execution_count": null,
      "outputs": []
    },
    {
      "cell_type": "code",
      "metadata": {
        "colab": {
          "base_uri": "https://localhost:8080/"
        },
        "id": "nJzfs7HnDavs",
        "outputId": "f0708f94-341d-403f-e0d8-ca17f0b514aa"
      },
      "source": [
        "df['term'].value_counts()"
      ],
      "execution_count": null,
      "outputs": [
        {
          "output_type": "execute_result",
          "data": {
            "text/plain": [
              "36    301247\n",
              "60     93972\n",
              "Name: term, dtype: int64"
            ]
          },
          "metadata": {
            "tags": []
          },
          "execution_count": 273
        }
      ]
    },
    {
      "cell_type": "code",
      "metadata": {
        "id": "o1dOcvnYD3at"
      },
      "source": [
        "#we are going to drop grade as we already have sub-grade\n",
        "df = df.drop('grade',axis=1)"
      ],
      "execution_count": null,
      "outputs": []
    },
    {
      "cell_type": "code",
      "metadata": {
        "id": "NXVSOi0iEqQd"
      },
      "source": [
        "dummies = pd.get_dummies(df['sub_grade'],drop_first=True)\n",
        "\n",
        "df = pd.concat([df.drop('sub_grade',axis=1),dummies],axis=1)"
      ],
      "execution_count": null,
      "outputs": []
    },
    {
      "cell_type": "code",
      "metadata": {
        "colab": {
          "base_uri": "https://localhost:8080/",
          "height": 201
        },
        "id": "tLai-_rkGAMx",
        "outputId": "0f948293-10b7-479e-f314-1927e340b51b"
      },
      "source": [
        "df.head(2)"
      ],
      "execution_count": null,
      "outputs": [
        {
          "output_type": "execute_result",
          "data": {
            "text/html": [
              "<div>\n",
              "<style scoped>\n",
              "    .dataframe tbody tr th:only-of-type {\n",
              "        vertical-align: middle;\n",
              "    }\n",
              "\n",
              "    .dataframe tbody tr th {\n",
              "        vertical-align: top;\n",
              "    }\n",
              "\n",
              "    .dataframe thead th {\n",
              "        text-align: right;\n",
              "    }\n",
              "</style>\n",
              "<table border=\"1\" class=\"dataframe\">\n",
              "  <thead>\n",
              "    <tr style=\"text-align: right;\">\n",
              "      <th></th>\n",
              "      <th>loan_amnt</th>\n",
              "      <th>term</th>\n",
              "      <th>int_rate</th>\n",
              "      <th>installment</th>\n",
              "      <th>home_ownership</th>\n",
              "      <th>annual_inc</th>\n",
              "      <th>verification_status</th>\n",
              "      <th>issue_d</th>\n",
              "      <th>loan_status</th>\n",
              "      <th>purpose</th>\n",
              "      <th>dti</th>\n",
              "      <th>earliest_cr_line</th>\n",
              "      <th>open_acc</th>\n",
              "      <th>pub_rec</th>\n",
              "      <th>revol_bal</th>\n",
              "      <th>revol_util</th>\n",
              "      <th>total_acc</th>\n",
              "      <th>initial_list_status</th>\n",
              "      <th>application_type</th>\n",
              "      <th>mort_acc</th>\n",
              "      <th>pub_rec_bankruptcies</th>\n",
              "      <th>address</th>\n",
              "      <th>loan_repaid</th>\n",
              "      <th>A2</th>\n",
              "      <th>A3</th>\n",
              "      <th>A4</th>\n",
              "      <th>A5</th>\n",
              "      <th>B1</th>\n",
              "      <th>B2</th>\n",
              "      <th>B3</th>\n",
              "      <th>B4</th>\n",
              "      <th>B5</th>\n",
              "      <th>C1</th>\n",
              "      <th>C2</th>\n",
              "      <th>C3</th>\n",
              "      <th>C4</th>\n",
              "      <th>C5</th>\n",
              "      <th>D1</th>\n",
              "      <th>D2</th>\n",
              "      <th>D3</th>\n",
              "      <th>D4</th>\n",
              "      <th>D5</th>\n",
              "      <th>E1</th>\n",
              "      <th>E2</th>\n",
              "      <th>E3</th>\n",
              "      <th>E4</th>\n",
              "      <th>E5</th>\n",
              "      <th>F1</th>\n",
              "      <th>F2</th>\n",
              "      <th>F3</th>\n",
              "      <th>F4</th>\n",
              "      <th>F5</th>\n",
              "      <th>G1</th>\n",
              "      <th>G2</th>\n",
              "      <th>G3</th>\n",
              "      <th>G4</th>\n",
              "      <th>G5</th>\n",
              "    </tr>\n",
              "  </thead>\n",
              "  <tbody>\n",
              "    <tr>\n",
              "      <th>0</th>\n",
              "      <td>10000.0</td>\n",
              "      <td>36</td>\n",
              "      <td>11.44</td>\n",
              "      <td>329.48</td>\n",
              "      <td>RENT</td>\n",
              "      <td>117000.0</td>\n",
              "      <td>Not Verified</td>\n",
              "      <td>Jan-2015</td>\n",
              "      <td>Fully Paid</td>\n",
              "      <td>vacation</td>\n",
              "      <td>26.24</td>\n",
              "      <td>Jun-1990</td>\n",
              "      <td>16.0</td>\n",
              "      <td>0.0</td>\n",
              "      <td>36369.0</td>\n",
              "      <td>41.8</td>\n",
              "      <td>25.0</td>\n",
              "      <td>w</td>\n",
              "      <td>INDIVIDUAL</td>\n",
              "      <td>0.0</td>\n",
              "      <td>0.0</td>\n",
              "      <td>0174 Michelle Gateway\\r\\nMendozaberg, OK 22690</td>\n",
              "      <td>1</td>\n",
              "      <td>0</td>\n",
              "      <td>0</td>\n",
              "      <td>0</td>\n",
              "      <td>0</td>\n",
              "      <td>0</td>\n",
              "      <td>0</td>\n",
              "      <td>0</td>\n",
              "      <td>1</td>\n",
              "      <td>0</td>\n",
              "      <td>0</td>\n",
              "      <td>0</td>\n",
              "      <td>0</td>\n",
              "      <td>0</td>\n",
              "      <td>0</td>\n",
              "      <td>0</td>\n",
              "      <td>0</td>\n",
              "      <td>0</td>\n",
              "      <td>0</td>\n",
              "      <td>0</td>\n",
              "      <td>0</td>\n",
              "      <td>0</td>\n",
              "      <td>0</td>\n",
              "      <td>0</td>\n",
              "      <td>0</td>\n",
              "      <td>0</td>\n",
              "      <td>0</td>\n",
              "      <td>0</td>\n",
              "      <td>0</td>\n",
              "      <td>0</td>\n",
              "      <td>0</td>\n",
              "      <td>0</td>\n",
              "      <td>0</td>\n",
              "      <td>0</td>\n",
              "      <td>0</td>\n",
              "    </tr>\n",
              "    <tr>\n",
              "      <th>1</th>\n",
              "      <td>8000.0</td>\n",
              "      <td>36</td>\n",
              "      <td>11.99</td>\n",
              "      <td>265.68</td>\n",
              "      <td>MORTGAGE</td>\n",
              "      <td>65000.0</td>\n",
              "      <td>Not Verified</td>\n",
              "      <td>Jan-2015</td>\n",
              "      <td>Fully Paid</td>\n",
              "      <td>debt_consolidation</td>\n",
              "      <td>22.05</td>\n",
              "      <td>Jul-2004</td>\n",
              "      <td>17.0</td>\n",
              "      <td>0.0</td>\n",
              "      <td>20131.0</td>\n",
              "      <td>53.3</td>\n",
              "      <td>27.0</td>\n",
              "      <td>f</td>\n",
              "      <td>INDIVIDUAL</td>\n",
              "      <td>3.0</td>\n",
              "      <td>0.0</td>\n",
              "      <td>1076 Carney Fort Apt. 347\\r\\nLoganmouth, SD 05113</td>\n",
              "      <td>1</td>\n",
              "      <td>0</td>\n",
              "      <td>0</td>\n",
              "      <td>0</td>\n",
              "      <td>0</td>\n",
              "      <td>0</td>\n",
              "      <td>0</td>\n",
              "      <td>0</td>\n",
              "      <td>0</td>\n",
              "      <td>1</td>\n",
              "      <td>0</td>\n",
              "      <td>0</td>\n",
              "      <td>0</td>\n",
              "      <td>0</td>\n",
              "      <td>0</td>\n",
              "      <td>0</td>\n",
              "      <td>0</td>\n",
              "      <td>0</td>\n",
              "      <td>0</td>\n",
              "      <td>0</td>\n",
              "      <td>0</td>\n",
              "      <td>0</td>\n",
              "      <td>0</td>\n",
              "      <td>0</td>\n",
              "      <td>0</td>\n",
              "      <td>0</td>\n",
              "      <td>0</td>\n",
              "      <td>0</td>\n",
              "      <td>0</td>\n",
              "      <td>0</td>\n",
              "      <td>0</td>\n",
              "      <td>0</td>\n",
              "      <td>0</td>\n",
              "      <td>0</td>\n",
              "      <td>0</td>\n",
              "    </tr>\n",
              "  </tbody>\n",
              "</table>\n",
              "</div>"
            ],
            "text/plain": [
              "   loan_amnt  term  int_rate  installment home_ownership  ...  G1 G2 G3 G4 G5\n",
              "0    10000.0    36     11.44       329.48           RENT  ...   0  0  0  0  0\n",
              "1     8000.0    36     11.99       265.68       MORTGAGE  ...   0  0  0  0  0\n",
              "\n",
              "[2 rows x 57 columns]"
            ]
          },
          "metadata": {
            "tags": []
          },
          "execution_count": 276
        }
      ]
    },
    {
      "cell_type": "code",
      "metadata": {
        "id": "F3P3t7C9GMzS"
      },
      "source": [
        "dummies = pd.get_dummies(df[['verification_status','application_type','initial_list_status','purpose']],drop_first=True)\n",
        "\n",
        "df = pd.concat([df.drop(['verification_status','application_type','initial_list_status','purpose'],axis=1),dummies],axis=1)"
      ],
      "execution_count": null,
      "outputs": []
    },
    {
      "cell_type": "code",
      "metadata": {
        "colab": {
          "base_uri": "https://localhost:8080/",
          "height": 219
        },
        "id": "m3-giq8UH8fe",
        "outputId": "ca1e5f03-75c8-4bf8-e937-4ec18e4bc363"
      },
      "source": [
        "df.head(2)"
      ],
      "execution_count": null,
      "outputs": [
        {
          "output_type": "execute_result",
          "data": {
            "text/html": [
              "<div>\n",
              "<style scoped>\n",
              "    .dataframe tbody tr th:only-of-type {\n",
              "        vertical-align: middle;\n",
              "    }\n",
              "\n",
              "    .dataframe tbody tr th {\n",
              "        vertical-align: top;\n",
              "    }\n",
              "\n",
              "    .dataframe thead th {\n",
              "        text-align: right;\n",
              "    }\n",
              "</style>\n",
              "<table border=\"1\" class=\"dataframe\">\n",
              "  <thead>\n",
              "    <tr style=\"text-align: right;\">\n",
              "      <th></th>\n",
              "      <th>loan_amnt</th>\n",
              "      <th>term</th>\n",
              "      <th>int_rate</th>\n",
              "      <th>installment</th>\n",
              "      <th>home_ownership</th>\n",
              "      <th>annual_inc</th>\n",
              "      <th>issue_d</th>\n",
              "      <th>loan_status</th>\n",
              "      <th>dti</th>\n",
              "      <th>earliest_cr_line</th>\n",
              "      <th>open_acc</th>\n",
              "      <th>pub_rec</th>\n",
              "      <th>revol_bal</th>\n",
              "      <th>revol_util</th>\n",
              "      <th>total_acc</th>\n",
              "      <th>mort_acc</th>\n",
              "      <th>pub_rec_bankruptcies</th>\n",
              "      <th>address</th>\n",
              "      <th>loan_repaid</th>\n",
              "      <th>A2</th>\n",
              "      <th>A3</th>\n",
              "      <th>A4</th>\n",
              "      <th>A5</th>\n",
              "      <th>B1</th>\n",
              "      <th>B2</th>\n",
              "      <th>B3</th>\n",
              "      <th>B4</th>\n",
              "      <th>B5</th>\n",
              "      <th>C1</th>\n",
              "      <th>C2</th>\n",
              "      <th>C3</th>\n",
              "      <th>C4</th>\n",
              "      <th>C5</th>\n",
              "      <th>D1</th>\n",
              "      <th>D2</th>\n",
              "      <th>D3</th>\n",
              "      <th>D4</th>\n",
              "      <th>D5</th>\n",
              "      <th>E1</th>\n",
              "      <th>E2</th>\n",
              "      <th>E3</th>\n",
              "      <th>E4</th>\n",
              "      <th>E5</th>\n",
              "      <th>F1</th>\n",
              "      <th>F2</th>\n",
              "      <th>F3</th>\n",
              "      <th>F4</th>\n",
              "      <th>F5</th>\n",
              "      <th>G1</th>\n",
              "      <th>G2</th>\n",
              "      <th>G3</th>\n",
              "      <th>G4</th>\n",
              "      <th>G5</th>\n",
              "      <th>verification_status_Source Verified</th>\n",
              "      <th>verification_status_Verified</th>\n",
              "      <th>application_type_INDIVIDUAL</th>\n",
              "      <th>application_type_JOINT</th>\n",
              "      <th>initial_list_status_w</th>\n",
              "      <th>purpose_credit_card</th>\n",
              "      <th>purpose_debt_consolidation</th>\n",
              "      <th>purpose_educational</th>\n",
              "      <th>purpose_home_improvement</th>\n",
              "      <th>purpose_house</th>\n",
              "      <th>purpose_major_purchase</th>\n",
              "      <th>purpose_medical</th>\n",
              "      <th>purpose_moving</th>\n",
              "      <th>purpose_other</th>\n",
              "      <th>purpose_renewable_energy</th>\n",
              "      <th>purpose_small_business</th>\n",
              "      <th>purpose_vacation</th>\n",
              "      <th>purpose_wedding</th>\n",
              "    </tr>\n",
              "  </thead>\n",
              "  <tbody>\n",
              "    <tr>\n",
              "      <th>0</th>\n",
              "      <td>10000.0</td>\n",
              "      <td>36</td>\n",
              "      <td>11.44</td>\n",
              "      <td>329.48</td>\n",
              "      <td>RENT</td>\n",
              "      <td>117000.0</td>\n",
              "      <td>Jan-2015</td>\n",
              "      <td>Fully Paid</td>\n",
              "      <td>26.24</td>\n",
              "      <td>Jun-1990</td>\n",
              "      <td>16.0</td>\n",
              "      <td>0.0</td>\n",
              "      <td>36369.0</td>\n",
              "      <td>41.8</td>\n",
              "      <td>25.0</td>\n",
              "      <td>0.0</td>\n",
              "      <td>0.0</td>\n",
              "      <td>0174 Michelle Gateway\\r\\nMendozaberg, OK 22690</td>\n",
              "      <td>1</td>\n",
              "      <td>0</td>\n",
              "      <td>0</td>\n",
              "      <td>0</td>\n",
              "      <td>0</td>\n",
              "      <td>0</td>\n",
              "      <td>0</td>\n",
              "      <td>0</td>\n",
              "      <td>1</td>\n",
              "      <td>0</td>\n",
              "      <td>0</td>\n",
              "      <td>0</td>\n",
              "      <td>0</td>\n",
              "      <td>0</td>\n",
              "      <td>0</td>\n",
              "      <td>0</td>\n",
              "      <td>0</td>\n",
              "      <td>0</td>\n",
              "      <td>0</td>\n",
              "      <td>0</td>\n",
              "      <td>0</td>\n",
              "      <td>0</td>\n",
              "      <td>0</td>\n",
              "      <td>0</td>\n",
              "      <td>0</td>\n",
              "      <td>0</td>\n",
              "      <td>0</td>\n",
              "      <td>0</td>\n",
              "      <td>0</td>\n",
              "      <td>0</td>\n",
              "      <td>0</td>\n",
              "      <td>0</td>\n",
              "      <td>0</td>\n",
              "      <td>0</td>\n",
              "      <td>0</td>\n",
              "      <td>0</td>\n",
              "      <td>0</td>\n",
              "      <td>1</td>\n",
              "      <td>0</td>\n",
              "      <td>1</td>\n",
              "      <td>0</td>\n",
              "      <td>0</td>\n",
              "      <td>0</td>\n",
              "      <td>0</td>\n",
              "      <td>0</td>\n",
              "      <td>0</td>\n",
              "      <td>0</td>\n",
              "      <td>0</td>\n",
              "      <td>0</td>\n",
              "      <td>0</td>\n",
              "      <td>0</td>\n",
              "      <td>1</td>\n",
              "      <td>0</td>\n",
              "    </tr>\n",
              "    <tr>\n",
              "      <th>1</th>\n",
              "      <td>8000.0</td>\n",
              "      <td>36</td>\n",
              "      <td>11.99</td>\n",
              "      <td>265.68</td>\n",
              "      <td>MORTGAGE</td>\n",
              "      <td>65000.0</td>\n",
              "      <td>Jan-2015</td>\n",
              "      <td>Fully Paid</td>\n",
              "      <td>22.05</td>\n",
              "      <td>Jul-2004</td>\n",
              "      <td>17.0</td>\n",
              "      <td>0.0</td>\n",
              "      <td>20131.0</td>\n",
              "      <td>53.3</td>\n",
              "      <td>27.0</td>\n",
              "      <td>3.0</td>\n",
              "      <td>0.0</td>\n",
              "      <td>1076 Carney Fort Apt. 347\\r\\nLoganmouth, SD 05113</td>\n",
              "      <td>1</td>\n",
              "      <td>0</td>\n",
              "      <td>0</td>\n",
              "      <td>0</td>\n",
              "      <td>0</td>\n",
              "      <td>0</td>\n",
              "      <td>0</td>\n",
              "      <td>0</td>\n",
              "      <td>0</td>\n",
              "      <td>1</td>\n",
              "      <td>0</td>\n",
              "      <td>0</td>\n",
              "      <td>0</td>\n",
              "      <td>0</td>\n",
              "      <td>0</td>\n",
              "      <td>0</td>\n",
              "      <td>0</td>\n",
              "      <td>0</td>\n",
              "      <td>0</td>\n",
              "      <td>0</td>\n",
              "      <td>0</td>\n",
              "      <td>0</td>\n",
              "      <td>0</td>\n",
              "      <td>0</td>\n",
              "      <td>0</td>\n",
              "      <td>0</td>\n",
              "      <td>0</td>\n",
              "      <td>0</td>\n",
              "      <td>0</td>\n",
              "      <td>0</td>\n",
              "      <td>0</td>\n",
              "      <td>0</td>\n",
              "      <td>0</td>\n",
              "      <td>0</td>\n",
              "      <td>0</td>\n",
              "      <td>0</td>\n",
              "      <td>0</td>\n",
              "      <td>1</td>\n",
              "      <td>0</td>\n",
              "      <td>0</td>\n",
              "      <td>0</td>\n",
              "      <td>1</td>\n",
              "      <td>0</td>\n",
              "      <td>0</td>\n",
              "      <td>0</td>\n",
              "      <td>0</td>\n",
              "      <td>0</td>\n",
              "      <td>0</td>\n",
              "      <td>0</td>\n",
              "      <td>0</td>\n",
              "      <td>0</td>\n",
              "      <td>0</td>\n",
              "      <td>0</td>\n",
              "    </tr>\n",
              "  </tbody>\n",
              "</table>\n",
              "</div>"
            ],
            "text/plain": [
              "   loan_amnt  term  ...  purpose_vacation  purpose_wedding\n",
              "0    10000.0    36  ...                 1                0\n",
              "1     8000.0    36  ...                 0                0\n",
              "\n",
              "[2 rows x 71 columns]"
            ]
          },
          "metadata": {
            "tags": []
          },
          "execution_count": 278
        }
      ]
    },
    {
      "cell_type": "code",
      "metadata": {
        "colab": {
          "base_uri": "https://localhost:8080/"
        },
        "id": "xiw-Np_HIkQq",
        "outputId": "01277f69-5b27-4dd9-8bfb-b1e0b45a6859"
      },
      "source": [
        "df['home_ownership'].value_counts()"
      ],
      "execution_count": null,
      "outputs": [
        {
          "output_type": "execute_result",
          "data": {
            "text/plain": [
              "MORTGAGE    198022\n",
              "RENT        159395\n",
              "OWN          37660\n",
              "OTHER          110\n",
              "NONE            29\n",
              "ANY              3\n",
              "Name: home_ownership, dtype: int64"
            ]
          },
          "metadata": {
            "tags": []
          },
          "execution_count": 279
        }
      ]
    },
    {
      "cell_type": "code",
      "metadata": {
        "id": "EzhUxMXEI3P8"
      },
      "source": [
        "df['home_ownership'] = df['home_ownership'].replace(['NONE','ANY'],'OTHER')"
      ],
      "execution_count": null,
      "outputs": []
    },
    {
      "cell_type": "code",
      "metadata": {
        "colab": {
          "base_uri": "https://localhost:8080/"
        },
        "id": "u5dTB5JvJV-q",
        "outputId": "c5c2efa1-0a4c-4e20-cee5-39eef7724eb4"
      },
      "source": [
        "df['home_ownership'].value_counts()"
      ],
      "execution_count": null,
      "outputs": [
        {
          "output_type": "execute_result",
          "data": {
            "text/plain": [
              "MORTGAGE    198022\n",
              "RENT        159395\n",
              "OWN          37660\n",
              "OTHER          142\n",
              "Name: home_ownership, dtype: int64"
            ]
          },
          "metadata": {
            "tags": []
          },
          "execution_count": 281
        }
      ]
    },
    {
      "cell_type": "code",
      "metadata": {
        "id": "kSem7KmvJawq"
      },
      "source": [
        "dummies = pd.get_dummies(df['home_ownership'],drop_first=True)\n",
        "\n",
        "df = pd.concat([df.drop('home_ownership',axis=1),dummies],axis=1)"
      ],
      "execution_count": null,
      "outputs": []
    },
    {
      "cell_type": "code",
      "metadata": {
        "colab": {
          "base_uri": "https://localhost:8080/"
        },
        "id": "Po2eO4dpJu9_",
        "outputId": "9e247384-c3cc-4d79-e7ed-a3e16ec15dc2"
      },
      "source": [
        "df['address']"
      ],
      "execution_count": null,
      "outputs": [
        {
          "output_type": "execute_result",
          "data": {
            "text/plain": [
              "0            0174 Michelle Gateway\\r\\nMendozaberg, OK 22690\n",
              "1         1076 Carney Fort Apt. 347\\r\\nLoganmouth, SD 05113\n",
              "2         87025 Mark Dale Apt. 269\\r\\nNew Sabrina, WV 05113\n",
              "3                   823 Reid Ford\\r\\nDelacruzside, MA 00813\n",
              "4                    679 Luna Roads\\r\\nGreggshire, VA 11650\n",
              "                                ...                        \n",
              "396025     12951 Williams Crossing\\r\\nJohnnyville, DC 30723\n",
              "396026    0114 Fowler Field Suite 028\\r\\nRachelborough, ...\n",
              "396027    953 Matthew Points Suite 414\\r\\nReedfort, NY 7...\n",
              "396028    7843 Blake Freeway Apt. 229\\r\\nNew Michael, FL...\n",
              "396029        787 Michelle Causeway\\r\\nBriannaton, AR 48052\n",
              "Name: address, Length: 395219, dtype: object"
            ]
          },
          "metadata": {
            "tags": []
          },
          "execution_count": 283
        }
      ]
    },
    {
      "cell_type": "code",
      "metadata": {
        "id": "KgO5uXhjJ2Ry"
      },
      "source": [
        "df['zip_code'] = df['address'].apply(lambda address: address[-5:])"
      ],
      "execution_count": null,
      "outputs": []
    },
    {
      "cell_type": "code",
      "metadata": {
        "colab": {
          "base_uri": "https://localhost:8080/"
        },
        "id": "BiJscgGwKWX3",
        "outputId": "636ce042-9179-4be3-c163-f76c3b43122a"
      },
      "source": [
        "df['zip_code'].value_counts()"
      ],
      "execution_count": null,
      "outputs": [
        {
          "output_type": "execute_result",
          "data": {
            "text/plain": [
              "70466    56880\n",
              "22690    56413\n",
              "30723    56402\n",
              "48052    55811\n",
              "00813    45725\n",
              "29597    45393\n",
              "05113    45300\n",
              "11650    11210\n",
              "93700    11126\n",
              "86630    10959\n",
              "Name: zip_code, dtype: int64"
            ]
          },
          "metadata": {
            "tags": []
          },
          "execution_count": 285
        }
      ]
    },
    {
      "cell_type": "code",
      "metadata": {
        "id": "HJz1l7f7KrBS"
      },
      "source": [
        "dummies = pd.get_dummies(df['zip_code'],drop_first=True)\n",
        "\n",
        "df = pd.concat([df.drop('zip_code',axis=1),dummies],axis=1)"
      ],
      "execution_count": null,
      "outputs": []
    },
    {
      "cell_type": "code",
      "metadata": {
        "id": "nJrXjHY7LAEP"
      },
      "source": [
        "df = df.drop('address',axis=1)"
      ],
      "execution_count": null,
      "outputs": []
    },
    {
      "cell_type": "code",
      "metadata": {
        "id": "g82hXOyjLGHl"
      },
      "source": [
        "#Issue_d : The month at which the loan was funded\n",
        "df = df.drop('issue_d',axis=1)"
      ],
      "execution_count": null,
      "outputs": []
    },
    {
      "cell_type": "code",
      "metadata": {
        "colab": {
          "base_uri": "https://localhost:8080/"
        },
        "id": "_3HvVJRmLq-s",
        "outputId": "64321783-e7e7-468a-b1e6-d4bc6a72d6c8"
      },
      "source": [
        "df['earliest_cr_line'].value_counts()"
      ],
      "execution_count": null,
      "outputs": [
        {
          "output_type": "execute_result",
          "data": {
            "text/plain": [
              "Oct-2000    3013\n",
              "Aug-2000    2930\n",
              "Oct-2001    2890\n",
              "Aug-2001    2879\n",
              "Nov-2000    2729\n",
              "            ... \n",
              "Jan-1948       1\n",
              "Dec-1959       1\n",
              "Jun-1959       1\n",
              "Dec-1951       1\n",
              "Nov-1955       1\n",
              "Name: earliest_cr_line, Length: 684, dtype: int64"
            ]
          },
          "metadata": {
            "tags": []
          },
          "execution_count": 289
        }
      ]
    },
    {
      "cell_type": "code",
      "metadata": {
        "id": "zfJeCb5MMGiq"
      },
      "source": [
        "df['earliest_cr_line'] = df['earliest_cr_line'].apply(lambda date: int(date[-4:]))"
      ],
      "execution_count": null,
      "outputs": []
    },
    {
      "cell_type": "code",
      "metadata": {
        "colab": {
          "base_uri": "https://localhost:8080/"
        },
        "id": "1Rqos_faMvwK",
        "outputId": "ae3b4296-a7fc-4d62-8620-2d16500abc81"
      },
      "source": [
        "df['earliest_cr_line'].value_counts()"
      ],
      "execution_count": null,
      "outputs": [
        {
          "output_type": "execute_result",
          "data": {
            "text/plain": [
              "2000    29302\n",
              "2001    29031\n",
              "1999    26444\n",
              "2002    25849\n",
              "2003    23623\n",
              "        ...  \n",
              "1951        3\n",
              "1950        3\n",
              "1953        2\n",
              "1948        1\n",
              "1944        1\n",
              "Name: earliest_cr_line, Length: 65, dtype: int64"
            ]
          },
          "metadata": {
            "tags": []
          },
          "execution_count": 291
        }
      ]
    },
    {
      "cell_type": "code",
      "metadata": {
        "colab": {
          "base_uri": "https://localhost:8080/",
          "height": 212
        },
        "id": "cLfM0ekXMwqP",
        "outputId": "b107c028-86b6-4ef1-a98c-1b33622c60df"
      },
      "source": [
        "df.head(4)"
      ],
      "execution_count": null,
      "outputs": [
        {
          "output_type": "execute_result",
          "data": {
            "text/html": [
              "<div>\n",
              "<style scoped>\n",
              "    .dataframe tbody tr th:only-of-type {\n",
              "        vertical-align: middle;\n",
              "    }\n",
              "\n",
              "    .dataframe tbody tr th {\n",
              "        vertical-align: top;\n",
              "    }\n",
              "\n",
              "    .dataframe thead th {\n",
              "        text-align: right;\n",
              "    }\n",
              "</style>\n",
              "<table border=\"1\" class=\"dataframe\">\n",
              "  <thead>\n",
              "    <tr style=\"text-align: right;\">\n",
              "      <th></th>\n",
              "      <th>loan_amnt</th>\n",
              "      <th>term</th>\n",
              "      <th>int_rate</th>\n",
              "      <th>installment</th>\n",
              "      <th>annual_inc</th>\n",
              "      <th>loan_status</th>\n",
              "      <th>dti</th>\n",
              "      <th>earliest_cr_line</th>\n",
              "      <th>open_acc</th>\n",
              "      <th>pub_rec</th>\n",
              "      <th>revol_bal</th>\n",
              "      <th>revol_util</th>\n",
              "      <th>total_acc</th>\n",
              "      <th>mort_acc</th>\n",
              "      <th>pub_rec_bankruptcies</th>\n",
              "      <th>loan_repaid</th>\n",
              "      <th>A2</th>\n",
              "      <th>A3</th>\n",
              "      <th>A4</th>\n",
              "      <th>A5</th>\n",
              "      <th>B1</th>\n",
              "      <th>B2</th>\n",
              "      <th>B3</th>\n",
              "      <th>B4</th>\n",
              "      <th>B5</th>\n",
              "      <th>C1</th>\n",
              "      <th>C2</th>\n",
              "      <th>C3</th>\n",
              "      <th>C4</th>\n",
              "      <th>C5</th>\n",
              "      <th>D1</th>\n",
              "      <th>D2</th>\n",
              "      <th>D3</th>\n",
              "      <th>D4</th>\n",
              "      <th>D5</th>\n",
              "      <th>E1</th>\n",
              "      <th>E2</th>\n",
              "      <th>E3</th>\n",
              "      <th>E4</th>\n",
              "      <th>E5</th>\n",
              "      <th>F1</th>\n",
              "      <th>F2</th>\n",
              "      <th>F3</th>\n",
              "      <th>F4</th>\n",
              "      <th>F5</th>\n",
              "      <th>G1</th>\n",
              "      <th>G2</th>\n",
              "      <th>G3</th>\n",
              "      <th>G4</th>\n",
              "      <th>G5</th>\n",
              "      <th>verification_status_Source Verified</th>\n",
              "      <th>verification_status_Verified</th>\n",
              "      <th>application_type_INDIVIDUAL</th>\n",
              "      <th>application_type_JOINT</th>\n",
              "      <th>initial_list_status_w</th>\n",
              "      <th>purpose_credit_card</th>\n",
              "      <th>purpose_debt_consolidation</th>\n",
              "      <th>purpose_educational</th>\n",
              "      <th>purpose_home_improvement</th>\n",
              "      <th>purpose_house</th>\n",
              "      <th>purpose_major_purchase</th>\n",
              "      <th>purpose_medical</th>\n",
              "      <th>purpose_moving</th>\n",
              "      <th>purpose_other</th>\n",
              "      <th>purpose_renewable_energy</th>\n",
              "      <th>purpose_small_business</th>\n",
              "      <th>purpose_vacation</th>\n",
              "      <th>purpose_wedding</th>\n",
              "      <th>OTHER</th>\n",
              "      <th>OWN</th>\n",
              "      <th>RENT</th>\n",
              "      <th>05113</th>\n",
              "      <th>11650</th>\n",
              "      <th>22690</th>\n",
              "      <th>29597</th>\n",
              "      <th>30723</th>\n",
              "      <th>48052</th>\n",
              "      <th>70466</th>\n",
              "      <th>86630</th>\n",
              "      <th>93700</th>\n",
              "    </tr>\n",
              "  </thead>\n",
              "  <tbody>\n",
              "    <tr>\n",
              "      <th>0</th>\n",
              "      <td>10000.0</td>\n",
              "      <td>36</td>\n",
              "      <td>11.44</td>\n",
              "      <td>329.48</td>\n",
              "      <td>117000.0</td>\n",
              "      <td>Fully Paid</td>\n",
              "      <td>26.24</td>\n",
              "      <td>1990</td>\n",
              "      <td>16.0</td>\n",
              "      <td>0.0</td>\n",
              "      <td>36369.0</td>\n",
              "      <td>41.8</td>\n",
              "      <td>25.0</td>\n",
              "      <td>0.0</td>\n",
              "      <td>0.0</td>\n",
              "      <td>1</td>\n",
              "      <td>0</td>\n",
              "      <td>0</td>\n",
              "      <td>0</td>\n",
              "      <td>0</td>\n",
              "      <td>0</td>\n",
              "      <td>0</td>\n",
              "      <td>0</td>\n",
              "      <td>1</td>\n",
              "      <td>0</td>\n",
              "      <td>0</td>\n",
              "      <td>0</td>\n",
              "      <td>0</td>\n",
              "      <td>0</td>\n",
              "      <td>0</td>\n",
              "      <td>0</td>\n",
              "      <td>0</td>\n",
              "      <td>0</td>\n",
              "      <td>0</td>\n",
              "      <td>0</td>\n",
              "      <td>0</td>\n",
              "      <td>0</td>\n",
              "      <td>0</td>\n",
              "      <td>0</td>\n",
              "      <td>0</td>\n",
              "      <td>0</td>\n",
              "      <td>0</td>\n",
              "      <td>0</td>\n",
              "      <td>0</td>\n",
              "      <td>0</td>\n",
              "      <td>0</td>\n",
              "      <td>0</td>\n",
              "      <td>0</td>\n",
              "      <td>0</td>\n",
              "      <td>0</td>\n",
              "      <td>0</td>\n",
              "      <td>0</td>\n",
              "      <td>1</td>\n",
              "      <td>0</td>\n",
              "      <td>1</td>\n",
              "      <td>0</td>\n",
              "      <td>0</td>\n",
              "      <td>0</td>\n",
              "      <td>0</td>\n",
              "      <td>0</td>\n",
              "      <td>0</td>\n",
              "      <td>0</td>\n",
              "      <td>0</td>\n",
              "      <td>0</td>\n",
              "      <td>0</td>\n",
              "      <td>0</td>\n",
              "      <td>1</td>\n",
              "      <td>0</td>\n",
              "      <td>0</td>\n",
              "      <td>0</td>\n",
              "      <td>1</td>\n",
              "      <td>0</td>\n",
              "      <td>0</td>\n",
              "      <td>1</td>\n",
              "      <td>0</td>\n",
              "      <td>0</td>\n",
              "      <td>0</td>\n",
              "      <td>0</td>\n",
              "      <td>0</td>\n",
              "      <td>0</td>\n",
              "    </tr>\n",
              "    <tr>\n",
              "      <th>1</th>\n",
              "      <td>8000.0</td>\n",
              "      <td>36</td>\n",
              "      <td>11.99</td>\n",
              "      <td>265.68</td>\n",
              "      <td>65000.0</td>\n",
              "      <td>Fully Paid</td>\n",
              "      <td>22.05</td>\n",
              "      <td>2004</td>\n",
              "      <td>17.0</td>\n",
              "      <td>0.0</td>\n",
              "      <td>20131.0</td>\n",
              "      <td>53.3</td>\n",
              "      <td>27.0</td>\n",
              "      <td>3.0</td>\n",
              "      <td>0.0</td>\n",
              "      <td>1</td>\n",
              "      <td>0</td>\n",
              "      <td>0</td>\n",
              "      <td>0</td>\n",
              "      <td>0</td>\n",
              "      <td>0</td>\n",
              "      <td>0</td>\n",
              "      <td>0</td>\n",
              "      <td>0</td>\n",
              "      <td>1</td>\n",
              "      <td>0</td>\n",
              "      <td>0</td>\n",
              "      <td>0</td>\n",
              "      <td>0</td>\n",
              "      <td>0</td>\n",
              "      <td>0</td>\n",
              "      <td>0</td>\n",
              "      <td>0</td>\n",
              "      <td>0</td>\n",
              "      <td>0</td>\n",
              "      <td>0</td>\n",
              "      <td>0</td>\n",
              "      <td>0</td>\n",
              "      <td>0</td>\n",
              "      <td>0</td>\n",
              "      <td>0</td>\n",
              "      <td>0</td>\n",
              "      <td>0</td>\n",
              "      <td>0</td>\n",
              "      <td>0</td>\n",
              "      <td>0</td>\n",
              "      <td>0</td>\n",
              "      <td>0</td>\n",
              "      <td>0</td>\n",
              "      <td>0</td>\n",
              "      <td>0</td>\n",
              "      <td>0</td>\n",
              "      <td>1</td>\n",
              "      <td>0</td>\n",
              "      <td>0</td>\n",
              "      <td>0</td>\n",
              "      <td>1</td>\n",
              "      <td>0</td>\n",
              "      <td>0</td>\n",
              "      <td>0</td>\n",
              "      <td>0</td>\n",
              "      <td>0</td>\n",
              "      <td>0</td>\n",
              "      <td>0</td>\n",
              "      <td>0</td>\n",
              "      <td>0</td>\n",
              "      <td>0</td>\n",
              "      <td>0</td>\n",
              "      <td>0</td>\n",
              "      <td>0</td>\n",
              "      <td>0</td>\n",
              "      <td>1</td>\n",
              "      <td>0</td>\n",
              "      <td>0</td>\n",
              "      <td>0</td>\n",
              "      <td>0</td>\n",
              "      <td>0</td>\n",
              "      <td>0</td>\n",
              "      <td>0</td>\n",
              "      <td>0</td>\n",
              "    </tr>\n",
              "    <tr>\n",
              "      <th>2</th>\n",
              "      <td>15600.0</td>\n",
              "      <td>36</td>\n",
              "      <td>10.49</td>\n",
              "      <td>506.97</td>\n",
              "      <td>43057.0</td>\n",
              "      <td>Fully Paid</td>\n",
              "      <td>12.79</td>\n",
              "      <td>2007</td>\n",
              "      <td>13.0</td>\n",
              "      <td>0.0</td>\n",
              "      <td>11987.0</td>\n",
              "      <td>92.2</td>\n",
              "      <td>26.0</td>\n",
              "      <td>0.0</td>\n",
              "      <td>0.0</td>\n",
              "      <td>1</td>\n",
              "      <td>0</td>\n",
              "      <td>0</td>\n",
              "      <td>0</td>\n",
              "      <td>0</td>\n",
              "      <td>0</td>\n",
              "      <td>0</td>\n",
              "      <td>1</td>\n",
              "      <td>0</td>\n",
              "      <td>0</td>\n",
              "      <td>0</td>\n",
              "      <td>0</td>\n",
              "      <td>0</td>\n",
              "      <td>0</td>\n",
              "      <td>0</td>\n",
              "      <td>0</td>\n",
              "      <td>0</td>\n",
              "      <td>0</td>\n",
              "      <td>0</td>\n",
              "      <td>0</td>\n",
              "      <td>0</td>\n",
              "      <td>0</td>\n",
              "      <td>0</td>\n",
              "      <td>0</td>\n",
              "      <td>0</td>\n",
              "      <td>0</td>\n",
              "      <td>0</td>\n",
              "      <td>0</td>\n",
              "      <td>0</td>\n",
              "      <td>0</td>\n",
              "      <td>0</td>\n",
              "      <td>0</td>\n",
              "      <td>0</td>\n",
              "      <td>0</td>\n",
              "      <td>0</td>\n",
              "      <td>1</td>\n",
              "      <td>0</td>\n",
              "      <td>1</td>\n",
              "      <td>0</td>\n",
              "      <td>0</td>\n",
              "      <td>1</td>\n",
              "      <td>0</td>\n",
              "      <td>0</td>\n",
              "      <td>0</td>\n",
              "      <td>0</td>\n",
              "      <td>0</td>\n",
              "      <td>0</td>\n",
              "      <td>0</td>\n",
              "      <td>0</td>\n",
              "      <td>0</td>\n",
              "      <td>0</td>\n",
              "      <td>0</td>\n",
              "      <td>0</td>\n",
              "      <td>0</td>\n",
              "      <td>0</td>\n",
              "      <td>1</td>\n",
              "      <td>1</td>\n",
              "      <td>0</td>\n",
              "      <td>0</td>\n",
              "      <td>0</td>\n",
              "      <td>0</td>\n",
              "      <td>0</td>\n",
              "      <td>0</td>\n",
              "      <td>0</td>\n",
              "      <td>0</td>\n",
              "    </tr>\n",
              "    <tr>\n",
              "      <th>3</th>\n",
              "      <td>7200.0</td>\n",
              "      <td>36</td>\n",
              "      <td>6.49</td>\n",
              "      <td>220.65</td>\n",
              "      <td>54000.0</td>\n",
              "      <td>Fully Paid</td>\n",
              "      <td>2.60</td>\n",
              "      <td>2006</td>\n",
              "      <td>6.0</td>\n",
              "      <td>0.0</td>\n",
              "      <td>5472.0</td>\n",
              "      <td>21.5</td>\n",
              "      <td>13.0</td>\n",
              "      <td>0.0</td>\n",
              "      <td>0.0</td>\n",
              "      <td>1</td>\n",
              "      <td>1</td>\n",
              "      <td>0</td>\n",
              "      <td>0</td>\n",
              "      <td>0</td>\n",
              "      <td>0</td>\n",
              "      <td>0</td>\n",
              "      <td>0</td>\n",
              "      <td>0</td>\n",
              "      <td>0</td>\n",
              "      <td>0</td>\n",
              "      <td>0</td>\n",
              "      <td>0</td>\n",
              "      <td>0</td>\n",
              "      <td>0</td>\n",
              "      <td>0</td>\n",
              "      <td>0</td>\n",
              "      <td>0</td>\n",
              "      <td>0</td>\n",
              "      <td>0</td>\n",
              "      <td>0</td>\n",
              "      <td>0</td>\n",
              "      <td>0</td>\n",
              "      <td>0</td>\n",
              "      <td>0</td>\n",
              "      <td>0</td>\n",
              "      <td>0</td>\n",
              "      <td>0</td>\n",
              "      <td>0</td>\n",
              "      <td>0</td>\n",
              "      <td>0</td>\n",
              "      <td>0</td>\n",
              "      <td>0</td>\n",
              "      <td>0</td>\n",
              "      <td>0</td>\n",
              "      <td>0</td>\n",
              "      <td>0</td>\n",
              "      <td>1</td>\n",
              "      <td>0</td>\n",
              "      <td>0</td>\n",
              "      <td>1</td>\n",
              "      <td>0</td>\n",
              "      <td>0</td>\n",
              "      <td>0</td>\n",
              "      <td>0</td>\n",
              "      <td>0</td>\n",
              "      <td>0</td>\n",
              "      <td>0</td>\n",
              "      <td>0</td>\n",
              "      <td>0</td>\n",
              "      <td>0</td>\n",
              "      <td>0</td>\n",
              "      <td>0</td>\n",
              "      <td>0</td>\n",
              "      <td>0</td>\n",
              "      <td>1</td>\n",
              "      <td>0</td>\n",
              "      <td>0</td>\n",
              "      <td>0</td>\n",
              "      <td>0</td>\n",
              "      <td>0</td>\n",
              "      <td>0</td>\n",
              "      <td>0</td>\n",
              "      <td>0</td>\n",
              "      <td>0</td>\n",
              "    </tr>\n",
              "  </tbody>\n",
              "</table>\n",
              "</div>"
            ],
            "text/plain": [
              "   loan_amnt  term  int_rate  installment  ...  48052 70466  86630  93700\n",
              "0    10000.0    36     11.44       329.48  ...      0     0      0      0\n",
              "1     8000.0    36     11.99       265.68  ...      0     0      0      0\n",
              "2    15600.0    36     10.49       506.97  ...      0     0      0      0\n",
              "3     7200.0    36      6.49       220.65  ...      0     0      0      0\n",
              "\n",
              "[4 rows x 80 columns]"
            ]
          },
          "metadata": {
            "tags": []
          },
          "execution_count": 292
        }
      ]
    },
    {
      "cell_type": "code",
      "metadata": {
        "id": "ZbZETJLQNavr"
      },
      "source": [
        "#we are dropping loan_status because we have already mapped it to 0 and 1 in loan_repaid column\n",
        "df = df.drop('loan_status',axis=1)"
      ],
      "execution_count": null,
      "outputs": []
    },
    {
      "cell_type": "markdown",
      "metadata": {
        "id": "IzuKH2b_PURC"
      },
      "source": [
        "Train Test Split the data."
      ]
    },
    {
      "cell_type": "code",
      "metadata": {
        "id": "nn5bcSvIOz_M"
      },
      "source": [
        "from sklearn.model_selection import train_test_split"
      ],
      "execution_count": null,
      "outputs": []
    },
    {
      "cell_type": "code",
      "metadata": {
        "id": "91z3SQNNPnU7"
      },
      "source": [
        "X = df.drop('loan_repaid',axis=1).values\n",
        "y = df['loan_repaid'].values"
      ],
      "execution_count": null,
      "outputs": []
    },
    {
      "cell_type": "code",
      "metadata": {
        "id": "64ar6HetP9eQ"
      },
      "source": [
        "X_train,X_test,y_train,y_test = train_test_split(X,y,test_size=0.2,random_state=101)"
      ],
      "execution_count": null,
      "outputs": []
    },
    {
      "cell_type": "markdown",
      "metadata": {
        "id": "0bLNCyAxRDU8"
      },
      "source": [
        "Normalizing the data"
      ]
    },
    {
      "cell_type": "code",
      "metadata": {
        "id": "et82TIQJQxd2"
      },
      "source": [
        "from sklearn.preprocessing import MinMaxScaler"
      ],
      "execution_count": null,
      "outputs": []
    },
    {
      "cell_type": "code",
      "metadata": {
        "id": "VO5rkdELRNAS"
      },
      "source": [
        "scaler = MinMaxScaler()"
      ],
      "execution_count": null,
      "outputs": []
    },
    {
      "cell_type": "code",
      "metadata": {
        "id": "mlDLvN8-RPYO"
      },
      "source": [
        "X_train = scaler.fit_transform(X_train)\n",
        "X_test  = scaler.transform(X_test)"
      ],
      "execution_count": null,
      "outputs": []
    },
    {
      "cell_type": "markdown",
      "metadata": {
        "id": "WBloBSWwRjvQ"
      },
      "source": [
        "Creating the Model"
      ]
    },
    {
      "cell_type": "code",
      "metadata": {
        "id": "GFKMmQRhRiQH"
      },
      "source": [
        "import tensorflow as tf"
      ],
      "execution_count": null,
      "outputs": []
    },
    {
      "cell_type": "code",
      "metadata": {
        "id": "RCqngKw2w1NQ"
      },
      "source": [
        "from tensorflow.keras.models import Sequential\n",
        "from tensorflow.keras.layers import Dense,Dropout"
      ],
      "execution_count": null,
      "outputs": []
    },
    {
      "cell_type": "code",
      "metadata": {
        "colab": {
          "base_uri": "https://localhost:8080/"
        },
        "id": "lY_AV3wYxBVX",
        "outputId": "a4e5b38b-4fec-4841-89f4-8eb684928b5f"
      },
      "source": [
        "X_train.shape"
      ],
      "execution_count": null,
      "outputs": [
        {
          "output_type": "execute_result",
          "data": {
            "text/plain": [
              "(316175, 78)"
            ]
          },
          "metadata": {
            "tags": []
          },
          "execution_count": 302
        }
      ]
    },
    {
      "cell_type": "code",
      "metadata": {
        "id": "5Dq5vcdNxS_8"
      },
      "source": [
        "model = Sequential()\n",
        "\n",
        "model.add(Dense(78,activation='relu'))\n",
        "model.add(Dropout(0.2))\n",
        "\n",
        "model.add(Dense(39,activation='relu'))\n",
        "model.add(Dropout(0.2))\n",
        "\n",
        "model.add(Dense(39,activation='relu'))\n",
        "model.add(Dropout(0.2))\n",
        "\n",
        "model.add(Dense(19,activation='relu'))\n",
        "model.add(Dropout(0.2))\n",
        "\n",
        "\n",
        "model.add(Dense(19,activation='relu'))\n",
        "model.add(Dropout(0.2))\n",
        "\n",
        "model.add(Dense(1,activation='sigmoid'))\n",
        "\n",
        "model.compile(loss='binary_crossentropy',optimizer='adam')"
      ],
      "execution_count": null,
      "outputs": []
    },
    {
      "cell_type": "code",
      "metadata": {
        "colab": {
          "base_uri": "https://localhost:8080/"
        },
        "id": "Do4b2Um7yZw1",
        "outputId": "19a6b314-5d0e-49c6-a15e-6a6f528310bc"
      },
      "source": [
        "model.fit(X_train,y_train,epochs=25,batch_size=256,\n",
        "          validation_data=(X_test,y_test))"
      ],
      "execution_count": null,
      "outputs": [
        {
          "output_type": "stream",
          "text": [
            "Epoch 1/25\n",
            "1236/1236 [==============================] - 6s 4ms/step - loss: 0.3045 - val_loss: 0.2659\n",
            "Epoch 2/25\n",
            "1236/1236 [==============================] - 5s 4ms/step - loss: 0.2665 - val_loss: 0.2657\n",
            "Epoch 3/25\n",
            "1236/1236 [==============================] - 5s 4ms/step - loss: 0.2637 - val_loss: 0.2631\n",
            "Epoch 4/25\n",
            "1236/1236 [==============================] - 5s 4ms/step - loss: 0.2629 - val_loss: 0.2629\n",
            "Epoch 5/25\n",
            "1236/1236 [==============================] - 5s 4ms/step - loss: 0.2617 - val_loss: 0.2627\n",
            "Epoch 6/25\n",
            "1236/1236 [==============================] - 5s 4ms/step - loss: 0.2612 - val_loss: 0.2622\n",
            "Epoch 7/25\n",
            "1236/1236 [==============================] - 5s 4ms/step - loss: 0.2606 - val_loss: 0.2645\n",
            "Epoch 8/25\n",
            "1236/1236 [==============================] - 5s 4ms/step - loss: 0.2604 - val_loss: 0.2625\n",
            "Epoch 9/25\n",
            "1236/1236 [==============================] - 5s 4ms/step - loss: 0.2601 - val_loss: 0.2645\n",
            "Epoch 10/25\n",
            "1236/1236 [==============================] - 5s 4ms/step - loss: 0.2597 - val_loss: 0.2624\n",
            "Epoch 11/25\n",
            "1236/1236 [==============================] - 5s 4ms/step - loss: 0.2595 - val_loss: 0.2637\n",
            "Epoch 12/25\n",
            "1236/1236 [==============================] - 5s 4ms/step - loss: 0.2594 - val_loss: 0.2622\n",
            "Epoch 13/25\n",
            "1236/1236 [==============================] - 5s 4ms/step - loss: 0.2590 - val_loss: 0.2619\n",
            "Epoch 14/25\n",
            "1236/1236 [==============================] - 5s 4ms/step - loss: 0.2588 - val_loss: 0.2624\n",
            "Epoch 15/25\n",
            "1236/1236 [==============================] - 5s 4ms/step - loss: 0.2588 - val_loss: 0.2616\n",
            "Epoch 16/25\n",
            "1236/1236 [==============================] - 5s 4ms/step - loss: 0.2585 - val_loss: 0.2623\n",
            "Epoch 17/25\n",
            "1236/1236 [==============================] - 5s 4ms/step - loss: 0.2581 - val_loss: 0.2621\n",
            "Epoch 18/25\n",
            "1236/1236 [==============================] - 5s 4ms/step - loss: 0.2582 - val_loss: 0.2630\n",
            "Epoch 19/25\n",
            "1236/1236 [==============================] - 5s 4ms/step - loss: 0.2579 - val_loss: 0.2619\n",
            "Epoch 20/25\n",
            "1236/1236 [==============================] - 5s 4ms/step - loss: 0.2579 - val_loss: 0.2628\n",
            "Epoch 21/25\n",
            "1236/1236 [==============================] - 5s 4ms/step - loss: 0.2578 - val_loss: 0.2634\n",
            "Epoch 22/25\n",
            "1236/1236 [==============================] - 5s 4ms/step - loss: 0.2576 - val_loss: 0.2627\n",
            "Epoch 23/25\n",
            "1236/1236 [==============================] - 5s 4ms/step - loss: 0.2572 - val_loss: 0.2626\n",
            "Epoch 24/25\n",
            "1236/1236 [==============================] - 5s 4ms/step - loss: 0.2572 - val_loss: 0.2621\n",
            "Epoch 25/25\n",
            "1236/1236 [==============================] - 5s 4ms/step - loss: 0.2572 - val_loss: 0.2639\n"
          ],
          "name": "stdout"
        },
        {
          "output_type": "execute_result",
          "data": {
            "text/plain": [
              "<tensorflow.python.keras.callbacks.History at 0x7fcf698d9f50>"
            ]
          },
          "metadata": {
            "tags": []
          },
          "execution_count": 304
        }
      ]
    },
    {
      "cell_type": "code",
      "metadata": {
        "id": "cDFfmfS7zG5E"
      },
      "source": [
        " losses = pd.DataFrame(model.history.history)"
      ],
      "execution_count": null,
      "outputs": []
    },
    {
      "cell_type": "code",
      "metadata": {
        "colab": {
          "base_uri": "https://localhost:8080/",
          "height": 833
        },
        "id": "qPB4tFz_1oW0",
        "outputId": "f8c131c0-a586-46eb-d484-162c690012d3"
      },
      "source": [
        "losses"
      ],
      "execution_count": null,
      "outputs": [
        {
          "output_type": "execute_result",
          "data": {
            "text/html": [
              "<div>\n",
              "<style scoped>\n",
              "    .dataframe tbody tr th:only-of-type {\n",
              "        vertical-align: middle;\n",
              "    }\n",
              "\n",
              "    .dataframe tbody tr th {\n",
              "        vertical-align: top;\n",
              "    }\n",
              "\n",
              "    .dataframe thead th {\n",
              "        text-align: right;\n",
              "    }\n",
              "</style>\n",
              "<table border=\"1\" class=\"dataframe\">\n",
              "  <thead>\n",
              "    <tr style=\"text-align: right;\">\n",
              "      <th></th>\n",
              "      <th>loss</th>\n",
              "      <th>val_loss</th>\n",
              "    </tr>\n",
              "  </thead>\n",
              "  <tbody>\n",
              "    <tr>\n",
              "      <th>0</th>\n",
              "      <td>0.304482</td>\n",
              "      <td>0.265928</td>\n",
              "    </tr>\n",
              "    <tr>\n",
              "      <th>1</th>\n",
              "      <td>0.266507</td>\n",
              "      <td>0.265734</td>\n",
              "    </tr>\n",
              "    <tr>\n",
              "      <th>2</th>\n",
              "      <td>0.263737</td>\n",
              "      <td>0.263103</td>\n",
              "    </tr>\n",
              "    <tr>\n",
              "      <th>3</th>\n",
              "      <td>0.262855</td>\n",
              "      <td>0.262927</td>\n",
              "    </tr>\n",
              "    <tr>\n",
              "      <th>4</th>\n",
              "      <td>0.261745</td>\n",
              "      <td>0.262660</td>\n",
              "    </tr>\n",
              "    <tr>\n",
              "      <th>5</th>\n",
              "      <td>0.261249</td>\n",
              "      <td>0.262183</td>\n",
              "    </tr>\n",
              "    <tr>\n",
              "      <th>6</th>\n",
              "      <td>0.260629</td>\n",
              "      <td>0.264505</td>\n",
              "    </tr>\n",
              "    <tr>\n",
              "      <th>7</th>\n",
              "      <td>0.260430</td>\n",
              "      <td>0.262464</td>\n",
              "    </tr>\n",
              "    <tr>\n",
              "      <th>8</th>\n",
              "      <td>0.260071</td>\n",
              "      <td>0.264513</td>\n",
              "    </tr>\n",
              "    <tr>\n",
              "      <th>9</th>\n",
              "      <td>0.259697</td>\n",
              "      <td>0.262384</td>\n",
              "    </tr>\n",
              "    <tr>\n",
              "      <th>10</th>\n",
              "      <td>0.259486</td>\n",
              "      <td>0.263688</td>\n",
              "    </tr>\n",
              "    <tr>\n",
              "      <th>11</th>\n",
              "      <td>0.259369</td>\n",
              "      <td>0.262232</td>\n",
              "    </tr>\n",
              "    <tr>\n",
              "      <th>12</th>\n",
              "      <td>0.258971</td>\n",
              "      <td>0.261941</td>\n",
              "    </tr>\n",
              "    <tr>\n",
              "      <th>13</th>\n",
              "      <td>0.258839</td>\n",
              "      <td>0.262365</td>\n",
              "    </tr>\n",
              "    <tr>\n",
              "      <th>14</th>\n",
              "      <td>0.258780</td>\n",
              "      <td>0.261575</td>\n",
              "    </tr>\n",
              "    <tr>\n",
              "      <th>15</th>\n",
              "      <td>0.258479</td>\n",
              "      <td>0.262291</td>\n",
              "    </tr>\n",
              "    <tr>\n",
              "      <th>16</th>\n",
              "      <td>0.258114</td>\n",
              "      <td>0.262073</td>\n",
              "    </tr>\n",
              "    <tr>\n",
              "      <th>17</th>\n",
              "      <td>0.258188</td>\n",
              "      <td>0.262996</td>\n",
              "    </tr>\n",
              "    <tr>\n",
              "      <th>18</th>\n",
              "      <td>0.257871</td>\n",
              "      <td>0.261893</td>\n",
              "    </tr>\n",
              "    <tr>\n",
              "      <th>19</th>\n",
              "      <td>0.257896</td>\n",
              "      <td>0.262809</td>\n",
              "    </tr>\n",
              "    <tr>\n",
              "      <th>20</th>\n",
              "      <td>0.257842</td>\n",
              "      <td>0.263424</td>\n",
              "    </tr>\n",
              "    <tr>\n",
              "      <th>21</th>\n",
              "      <td>0.257636</td>\n",
              "      <td>0.262670</td>\n",
              "    </tr>\n",
              "    <tr>\n",
              "      <th>22</th>\n",
              "      <td>0.257175</td>\n",
              "      <td>0.262619</td>\n",
              "    </tr>\n",
              "    <tr>\n",
              "      <th>23</th>\n",
              "      <td>0.257206</td>\n",
              "      <td>0.262084</td>\n",
              "    </tr>\n",
              "    <tr>\n",
              "      <th>24</th>\n",
              "      <td>0.257226</td>\n",
              "      <td>0.263938</td>\n",
              "    </tr>\n",
              "  </tbody>\n",
              "</table>\n",
              "</div>"
            ],
            "text/plain": [
              "        loss  val_loss\n",
              "0   0.304482  0.265928\n",
              "1   0.266507  0.265734\n",
              "2   0.263737  0.263103\n",
              "3   0.262855  0.262927\n",
              "4   0.261745  0.262660\n",
              "5   0.261249  0.262183\n",
              "6   0.260629  0.264505\n",
              "7   0.260430  0.262464\n",
              "8   0.260071  0.264513\n",
              "9   0.259697  0.262384\n",
              "10  0.259486  0.263688\n",
              "11  0.259369  0.262232\n",
              "12  0.258971  0.261941\n",
              "13  0.258839  0.262365\n",
              "14  0.258780  0.261575\n",
              "15  0.258479  0.262291\n",
              "16  0.258114  0.262073\n",
              "17  0.258188  0.262996\n",
              "18  0.257871  0.261893\n",
              "19  0.257896  0.262809\n",
              "20  0.257842  0.263424\n",
              "21  0.257636  0.262670\n",
              "22  0.257175  0.262619\n",
              "23  0.257206  0.262084\n",
              "24  0.257226  0.263938"
            ]
          },
          "metadata": {
            "tags": []
          },
          "execution_count": 306
        }
      ]
    },
    {
      "cell_type": "code",
      "metadata": {
        "colab": {
          "base_uri": "https://localhost:8080/",
          "height": 285
        },
        "id": "HPcB1sjT1ydT",
        "outputId": "45a581a4-518d-45ca-e995-2c7de52b0cc2"
      },
      "source": [
        "losses.plot()"
      ],
      "execution_count": null,
      "outputs": [
        {
          "output_type": "execute_result",
          "data": {
            "text/plain": [
              "<matplotlib.axes._subplots.AxesSubplot at 0x7fcf626a51d0>"
            ]
          },
          "metadata": {
            "tags": []
          },
          "execution_count": 307
        },
        {
          "output_type": "display_data",
          "data": {
            "image/png": "[encoded data removed]",
            "text/plain": [
              "<Figure size 432x288 with 1 Axes>"
            ]
          },
          "metadata": {
            "tags": []
          }
        }
      ]
    },
    {
      "cell_type": "code",
      "metadata": {
        "id": "dubHQnxF12Ys"
      },
      "source": [
        "from tensorflow.keras.callbacks import EarlyStopping  "
      ],
      "execution_count": null,
      "outputs": []
    },
    {
      "cell_type": "code",
      "metadata": {
        "id": "QVP-y-P03hOs"
      },
      "source": [
        "model = Sequential()\n",
        "\n",
        "model.add(Dense(78,activation='relu'))\n",
        "model.add(Dropout(0.3))\n",
        "\n",
        "model.add(Dense(39,activation='relu'))\n",
        "model.add(Dropout(0.3))\n",
        "\n",
        "model.add(Dense(39,activation='relu'))\n",
        "model.add(Dropout(0.3))\n",
        "\n",
        "model.add(Dense(19,activation='relu'))\n",
        "model.add(Dropout(0.3))\n",
        "\n",
        "\n",
        "model.add(Dense(19,activation='relu'))\n",
        "model.add(Dropout(0.3))\n",
        "\n",
        "model.add(Dense(1,activation='sigmoid'))\n",
        "\n",
        "model.compile(loss='binary_crossentropy',optimizer='adam')"
      ],
      "execution_count": null,
      "outputs": []
    },
    {
      "cell_type": "code",
      "metadata": {
        "id": "PNJlVPNv3yUq"
      },
      "source": [
        "early_stop = EarlyStopping(monitor='val_loss',mode='min',verbose=1,patience=25)"
      ],
      "execution_count": null,
      "outputs": []
    },
    {
      "cell_type": "code",
      "metadata": {
        "colab": {
          "base_uri": "https://localhost:8080/"
        },
        "id": "-IG8A83P30gk",
        "outputId": "d5a563ce-af35-45cc-eede-5aa5f77bc6c3"
      },
      "source": [
        "model.fit(X_train,y_train,epochs=100,batch_size=256,\n",
        "          validation_data=(X_test,y_test),callbacks=[early_stop])"
      ],
      "execution_count": null,
      "outputs": [
        {
          "output_type": "stream",
          "text": [
            "Epoch 1/100\n",
            "1236/1236 [==============================] - 6s 4ms/step - loss: 0.3235 - val_loss: 0.2658\n",
            "Epoch 2/100\n",
            "1236/1236 [==============================] - 5s 4ms/step - loss: 0.2698 - val_loss: 0.2647\n",
            "Epoch 3/100\n",
            "1236/1236 [==============================] - 5s 4ms/step - loss: 0.2660 - val_loss: 0.2633\n",
            "Epoch 4/100\n",
            "1236/1236 [==============================] - 5s 4ms/step - loss: 0.2646 - val_loss: 0.2657\n",
            "Epoch 5/100\n",
            "1236/1236 [==============================] - 5s 4ms/step - loss: 0.2637 - val_loss: 0.2636\n",
            "Epoch 6/100\n",
            "1236/1236 [==============================] - 5s 4ms/step - loss: 0.2627 - val_loss: 0.2633\n",
            "Epoch 7/100\n",
            "1236/1236 [==============================] - 5s 4ms/step - loss: 0.2626 - val_loss: 0.2625\n",
            "Epoch 8/100\n",
            "1236/1236 [==============================] - 5s 4ms/step - loss: 0.2619 - val_loss: 0.2632\n",
            "Epoch 9/100\n",
            "1236/1236 [==============================] - 5s 4ms/step - loss: 0.2615 - val_loss: 0.2638\n",
            "Epoch 10/100\n",
            "1236/1236 [==============================] - 5s 4ms/step - loss: 0.2614 - val_loss: 0.2625\n",
            "Epoch 11/100\n",
            "1236/1236 [==============================] - 5s 4ms/step - loss: 0.2613 - val_loss: 0.2634\n",
            "Epoch 12/100\n",
            "1236/1236 [==============================] - 5s 4ms/step - loss: 0.2612 - val_loss: 0.2623\n",
            "Epoch 13/100\n",
            "1236/1236 [==============================] - 5s 4ms/step - loss: 0.2605 - val_loss: 0.2621\n",
            "Epoch 14/100\n",
            "1236/1236 [==============================] - 5s 4ms/step - loss: 0.2605 - val_loss: 0.2625\n",
            "Epoch 15/100\n",
            "1236/1236 [==============================] - 5s 4ms/step - loss: 0.2607 - val_loss: 0.2626\n",
            "Epoch 16/100\n",
            "1236/1236 [==============================] - 5s 4ms/step - loss: 0.2600 - val_loss: 0.2621\n",
            "Epoch 17/100\n",
            "1236/1236 [==============================] - 5s 4ms/step - loss: 0.2599 - val_loss: 0.2622\n",
            "Epoch 18/100\n",
            "1236/1236 [==============================] - 5s 4ms/step - loss: 0.2600 - val_loss: 0.2620\n",
            "Epoch 19/100\n",
            "1236/1236 [==============================] - 5s 4ms/step - loss: 0.2597 - val_loss: 0.2622\n",
            "Epoch 20/100\n",
            "1236/1236 [==============================] - 5s 4ms/step - loss: 0.2600 - val_loss: 0.2626\n",
            "Epoch 21/100\n",
            "1236/1236 [==============================] - 5s 4ms/step - loss: 0.2595 - val_loss: 0.2622\n",
            "Epoch 22/100\n",
            "1236/1236 [==============================] - 5s 4ms/step - loss: 0.2596 - val_loss: 0.2624\n",
            "Epoch 23/100\n",
            "1236/1236 [==============================] - 5s 4ms/step - loss: 0.2593 - val_loss: 0.2618\n",
            "Epoch 24/100\n",
            "1236/1236 [==============================] - 5s 4ms/step - loss: 0.2592 - val_loss: 0.2621\n",
            "Epoch 25/100\n",
            "1236/1236 [==============================] - 5s 4ms/step - loss: 0.2591 - val_loss: 0.2619\n",
            "Epoch 26/100\n",
            "1236/1236 [==============================] - 5s 4ms/step - loss: 0.2592 - val_loss: 0.2620\n",
            "Epoch 27/100\n",
            "1236/1236 [==============================] - 5s 4ms/step - loss: 0.2592 - val_loss: 0.2629\n",
            "Epoch 28/100\n",
            "1236/1236 [==============================] - 5s 4ms/step - loss: 0.2588 - val_loss: 0.2616\n",
            "Epoch 29/100\n",
            "1236/1236 [==============================] - 5s 4ms/step - loss: 0.2591 - val_loss: 0.2621\n",
            "Epoch 30/100\n",
            "1236/1236 [==============================] - 5s 4ms/step - loss: 0.2587 - val_loss: 0.2619\n",
            "Epoch 31/100\n",
            "1236/1236 [==============================] - 5s 4ms/step - loss: 0.2586 - val_loss: 0.2628\n",
            "Epoch 32/100\n",
            "1236/1236 [==============================] - 5s 4ms/step - loss: 0.2587 - val_loss: 0.2624\n",
            "Epoch 33/100\n",
            "1236/1236 [==============================] - 5s 4ms/step - loss: 0.2585 - val_loss: 0.2620\n",
            "Epoch 34/100\n",
            "1236/1236 [==============================] - 5s 4ms/step - loss: 0.2583 - val_loss: 0.2625\n",
            "Epoch 35/100\n",
            "1236/1236 [==============================] - 5s 4ms/step - loss: 0.2582 - val_loss: 0.2612\n",
            "Epoch 36/100\n",
            "1236/1236 [==============================] - 5s 4ms/step - loss: 0.2580 - val_loss: 0.2624\n",
            "Epoch 37/100\n",
            "1236/1236 [==============================] - 5s 4ms/step - loss: 0.2581 - val_loss: 0.2629\n",
            "Epoch 38/100\n",
            "1236/1236 [==============================] - 5s 4ms/step - loss: 0.2578 - val_loss: 0.2624\n",
            "Epoch 39/100\n",
            "1236/1236 [==============================] - 5s 4ms/step - loss: 0.2580 - val_loss: 0.2618\n",
            "Epoch 40/100\n",
            "1236/1236 [==============================] - 5s 4ms/step - loss: 0.2579 - val_loss: 0.2621\n",
            "Epoch 41/100\n",
            "1236/1236 [==============================] - 5s 4ms/step - loss: 0.2578 - val_loss: 0.2617\n",
            "Epoch 42/100\n",
            "1236/1236 [==============================] - 5s 4ms/step - loss: 0.2576 - val_loss: 0.2624\n",
            "Epoch 43/100\n",
            "1236/1236 [==============================] - 5s 4ms/step - loss: 0.2576 - val_loss: 0.2617\n",
            "Epoch 44/100\n",
            "1236/1236 [==============================] - 5s 4ms/step - loss: 0.2577 - val_loss: 0.2619\n",
            "Epoch 45/100\n",
            "1236/1236 [==============================] - 5s 4ms/step - loss: 0.2577 - val_loss: 0.2615\n",
            "Epoch 46/100\n",
            "1236/1236 [==============================] - 5s 4ms/step - loss: 0.2574 - val_loss: 0.2618\n",
            "Epoch 47/100\n",
            "1236/1236 [==============================] - 5s 4ms/step - loss: 0.2572 - val_loss: 0.2615\n",
            "Epoch 48/100\n",
            "1236/1236 [==============================] - 5s 4ms/step - loss: 0.2571 - val_loss: 0.2615\n",
            "Epoch 49/100\n",
            "1236/1236 [==============================] - 5s 4ms/step - loss: 0.2575 - val_loss: 0.2618\n",
            "Epoch 50/100\n",
            "1236/1236 [==============================] - 5s 4ms/step - loss: 0.2572 - val_loss: 0.2617\n",
            "Epoch 51/100\n",
            "1236/1236 [==============================] - 5s 4ms/step - loss: 0.2570 - val_loss: 0.2615\n",
            "Epoch 52/100\n",
            "1236/1236 [==============================] - 5s 4ms/step - loss: 0.2573 - val_loss: 0.2617\n",
            "Epoch 53/100\n",
            "1236/1236 [==============================] - 5s 4ms/step - loss: 0.2574 - val_loss: 0.2623\n",
            "Epoch 54/100\n",
            "1236/1236 [==============================] - 5s 4ms/step - loss: 0.2571 - val_loss: 0.2626\n",
            "Epoch 55/100\n",
            "1236/1236 [==============================] - 5s 4ms/step - loss: 0.2566 - val_loss: 0.2618\n",
            "Epoch 56/100\n",
            "1236/1236 [==============================] - 5s 4ms/step - loss: 0.2569 - val_loss: 0.2612\n",
            "Epoch 57/100\n",
            "1236/1236 [==============================] - 5s 4ms/step - loss: 0.2571 - val_loss: 0.2618\n",
            "Epoch 58/100\n",
            "1236/1236 [==============================] - 5s 4ms/step - loss: 0.2566 - val_loss: 0.2629\n",
            "Epoch 59/100\n",
            "1236/1236 [==============================] - 5s 4ms/step - loss: 0.2569 - val_loss: 0.2619\n",
            "Epoch 60/100\n",
            "1236/1236 [==============================] - 5s 4ms/step - loss: 0.2570 - val_loss: 0.2614\n",
            "Epoch 61/100\n",
            "1236/1236 [==============================] - 5s 4ms/step - loss: 0.2566 - val_loss: 0.2621\n",
            "Epoch 62/100\n",
            "1236/1236 [==============================] - 5s 4ms/step - loss: 0.2567 - val_loss: 0.2620\n",
            "Epoch 63/100\n",
            "1236/1236 [==============================] - 5s 4ms/step - loss: 0.2563 - val_loss: 0.2622\n",
            "Epoch 64/100\n",
            "1236/1236 [==============================] - 5s 4ms/step - loss: 0.2567 - val_loss: 0.2615\n",
            "Epoch 65/100\n",
            "1236/1236 [==============================] - 5s 4ms/step - loss: 0.2565 - val_loss: 0.2616\n",
            "Epoch 66/100\n",
            "1236/1236 [==============================] - 5s 4ms/step - loss: 0.2564 - val_loss: 0.2621\n",
            "Epoch 67/100\n",
            "1236/1236 [==============================] - 5s 4ms/step - loss: 0.2563 - val_loss: 0.2617\n",
            "Epoch 68/100\n",
            "1236/1236 [==============================] - 5s 4ms/step - loss: 0.2565 - val_loss: 0.2621\n",
            "Epoch 69/100\n",
            "1236/1236 [==============================] - 5s 4ms/step - loss: 0.2565 - val_loss: 0.2613\n",
            "Epoch 70/100\n",
            "1236/1236 [==============================] - 5s 4ms/step - loss: 0.2565 - val_loss: 0.2615\n",
            "Epoch 71/100\n",
            "1236/1236 [==============================] - 5s 4ms/step - loss: 0.2561 - val_loss: 0.2622\n",
            "Epoch 72/100\n",
            "1236/1236 [==============================] - 5s 4ms/step - loss: 0.2560 - val_loss: 0.2622\n",
            "Epoch 73/100\n",
            "1236/1236 [==============================] - 5s 4ms/step - loss: 0.2562 - val_loss: 0.2618\n",
            "Epoch 74/100\n",
            "1236/1236 [==============================] - 5s 4ms/step - loss: 0.2558 - val_loss: 0.2616\n",
            "Epoch 75/100\n",
            "1236/1236 [==============================] - 5s 4ms/step - loss: 0.2561 - val_loss: 0.2614\n",
            "Epoch 76/100\n",
            "1236/1236 [==============================] - 5s 4ms/step - loss: 0.2563 - val_loss: 0.2616\n",
            "Epoch 77/100\n",
            "1236/1236 [==============================] - 5s 4ms/step - loss: 0.2558 - val_loss: 0.2621\n",
            "Epoch 78/100\n",
            "1236/1236 [==============================] - 5s 4ms/step - loss: 0.2561 - val_loss: 0.2624\n",
            "Epoch 79/100\n",
            "1236/1236 [==============================] - 5s 4ms/step - loss: 0.2559 - val_loss: 0.2625\n",
            "Epoch 80/100\n",
            "1236/1236 [==============================] - 5s 4ms/step - loss: 0.2563 - val_loss: 0.2617\n",
            "Epoch 81/100\n",
            "1236/1236 [==============================] - 5s 4ms/step - loss: 0.2560 - val_loss: 0.2622\n",
            "Epoch 00081: early stopping\n"
          ],
          "name": "stdout"
        },
        {
          "output_type": "execute_result",
          "data": {
            "text/plain": [
              "<tensorflow.python.keras.callbacks.History at 0x7fcf6c2dcb90>"
            ]
          },
          "metadata": {
            "tags": []
          },
          "execution_count": 311
        }
      ]
    },
    {
      "cell_type": "code",
      "metadata": {
        "id": "DZuikaED4nly"
      },
      "source": [
        " model_loss = pd.DataFrame(model.history.history)"
      ],
      "execution_count": null,
      "outputs": []
    },
    {
      "cell_type": "code",
      "metadata": {
        "colab": {
          "base_uri": "https://localhost:8080/",
          "height": 285
        },
        "id": "Aerhy1Rn6vPZ",
        "outputId": "07f16b83-ab3f-4d94-8624-43672e8c9d7a"
      },
      "source": [
        "model_loss.plot()"
      ],
      "execution_count": null,
      "outputs": [
        {
          "output_type": "execute_result",
          "data": {
            "text/plain": [
              "<matplotlib.axes._subplots.AxesSubplot at 0x7fcf62b0a190>"
            ]
          },
          "metadata": {
            "tags": []
          },
          "execution_count": 313
        },
        {
          "output_type": "display_data",
          "data": {
            "image/png": "[encoded data removed]",
            "text/plain": [
              "<Figure size 432x288 with 1 Axes>"
            ]
          },
          "metadata": {
            "tags": []
          }
        }
      ]
    },
    {
      "cell_type": "code",
      "metadata": {
        "id": "DZVunXpL62Nh"
      },
      "source": [
        "from sklearn.metrics import classification_report,confusion_matrix"
      ],
      "execution_count": null,
      "outputs": []
    },
    {
      "cell_type": "code",
      "metadata": {
        "colab": {
          "base_uri": "https://localhost:8080/"
        },
        "id": "UqqKnwej7Mgq",
        "outputId": "1dea5918-0fd2-4e08-8ef1-41099ebae146"
      },
      "source": [
        "predictions = model.predict_classes(X_test)"
      ],
      "execution_count": null,
      "outputs": [
        {
          "output_type": "stream",
          "text": [
            "/usr/local/lib/python3.7/dist-packages/tensorflow/python/keras/engine/sequential.py:455: UserWarning: `model.predict_classes()` is deprecated and will be removed after 2021-01-01. Please use instead:* `np.argmax(model.predict(x), axis=-1)`,   if your model does multi-class classification   (e.g. if it uses a `softmax` last-layer activation).* `(model.predict(x) > 0.5).astype(\"int32\")`,   if your model does binary classification   (e.g. if it uses a `sigmoid` last-layer activation).\n",
            "  warnings.warn('`model.predict_classes()` is deprecated and '\n"
          ],
          "name": "stderr"
        }
      ]
    },
    {
      "cell_type": "code",
      "metadata": {
        "colab": {
          "base_uri": "https://localhost:8080/"
        },
        "id": "Bit0BbPM7Yfi",
        "outputId": "eab6b8aa-fc65-4517-818e-9876b166af88"
      },
      "source": [
        "print(classification_report(y_test,predictions))"
      ],
      "execution_count": null,
      "outputs": [
        {
          "output_type": "stream",
          "text": [
            "              precision    recall  f1-score   support\n",
            "\n",
            "           0       0.99      0.44      0.60     15658\n",
            "           1       0.88      1.00      0.93     63386\n",
            "\n",
            "    accuracy                           0.89     79044\n",
            "   macro avg       0.93      0.72      0.77     79044\n",
            "weighted avg       0.90      0.89      0.87     79044\n",
            "\n"
          ],
          "name": "stdout"
        }
      ]
    },
    {
      "cell_type": "code",
      "metadata": {
        "colab": {
          "base_uri": "https://localhost:8080/"
        },
        "id": "eFqFK-bk7hoS",
        "outputId": "ac03872b-bdf9-4148-9da3-0428a8b35a7e"
      },
      "source": [
        "df['loan_repaid'].value_counts()"
      ],
      "execution_count": null,
      "outputs": [
        {
          "output_type": "execute_result",
          "data": {
            "text/plain": [
              "1    317696\n",
              "0     77523\n",
              "Name: loan_repaid, dtype: int64"
            ]
          },
          "metadata": {
            "tags": []
          },
          "execution_count": 317
        }
      ]
    },
    {
      "cell_type": "code",
      "metadata": {
        "colab": {
          "base_uri": "https://localhost:8080/"
        },
        "id": "iO69sQ9675eS",
        "outputId": "17af568f-7b5c-42a2-83f2-535bbd87031f"
      },
      "source": [
        "  317696/len(df)"
      ],
      "execution_count": null,
      "outputs": [
        {
          "output_type": "execute_result",
          "data": {
            "text/plain": [
              "0.8038479931379817"
            ]
          },
          "metadata": {
            "tags": []
          },
          "execution_count": 318
        }
      ]
    },
    {
      "cell_type": "code",
      "metadata": {
        "colab": {
          "base_uri": "https://localhost:8080/"
        },
        "id": "K2cBYZfS8IpM",
        "outputId": "a2526340-e04f-4dfc-e333-a542c7eee5ef"
      },
      "source": [
        "confusion_matrix(y_test,predictions)"
      ],
      "execution_count": null,
      "outputs": [
        {
          "output_type": "execute_result",
          "data": {
            "text/plain": [
              "array([[ 6812,  8846],\n",
              "       [   71, 63315]])"
            ]
          },
          "metadata": {
            "tags": []
          },
          "execution_count": 319
        }
      ]
    },
    {
      "cell_type": "markdown",
      "metadata": {
        "id": "U46Hai9p9Zs7"
      },
      "source": [
        "Task:\n",
        "\n",
        "For the customer below,would bank offer this person a loan ? "
      ]
    },
    {
      "cell_type": "code",
      "metadata": {
        "colab": {
          "base_uri": "https://localhost:8080/"
        },
        "id": "xYUeNp_b830A",
        "outputId": "34337e5c-e0f5-4d07-cf78-383285184c1b"
      },
      "source": [
        "import random\n",
        "random.seed(101)\n",
        "random_ind = random.randint(0,len(df))\n",
        "\n",
        "new_customer = df.drop('loan_repaid',axis=1).iloc[random_ind]\n",
        "new_customer"
      ],
      "execution_count": null,
      "outputs": [
        {
          "output_type": "execute_result",
          "data": {
            "text/plain": [
              "loan_amnt      25000.00\n",
              "term              60.00\n",
              "int_rate          18.24\n",
              "installment      638.11\n",
              "annual_inc     61665.00\n",
              "                 ...   \n",
              "30723              1.00\n",
              "48052              0.00\n",
              "70466              0.00\n",
              "86630              0.00\n",
              "93700              0.00\n",
              "Name: 305323, Length: 78, dtype: float64"
            ]
          },
          "metadata": {
            "tags": []
          },
          "execution_count": 320
        }
      ]
    },
    {
      "cell_type": "code",
      "metadata": {
        "colab": {
          "base_uri": "https://localhost:8080/"
        },
        "id": "TI5N7rVm-oJ6",
        "outputId": "fe6e32e6-a038-46ef-bb5f-91e7eef53af3"
      },
      "source": [
        "new_customer.values.reshape(-1,78)"
      ],
      "execution_count": null,
      "outputs": [
        {
          "output_type": "execute_result",
          "data": {
            "text/plain": [
              "array([[2.5000e+04, 6.0000e+01, 1.8240e+01, 6.3811e+02, 6.1665e+04,\n",
              "        3.0110e+01, 1.9960e+03, 1.6000e+01, 0.0000e+00, 2.7778e+04,\n",
              "        6.5500e+01, 4.6000e+01, 0.0000e+00, 0.0000e+00, 0.0000e+00,\n",
              "        0.0000e+00, 0.0000e+00, 0.0000e+00, 0.0000e+00, 0.0000e+00,\n",
              "        0.0000e+00, 0.0000e+00, 0.0000e+00, 0.0000e+00, 0.0000e+00,\n",
              "        0.0000e+00, 0.0000e+00, 0.0000e+00, 0.0000e+00, 0.0000e+00,\n",
              "        0.0000e+00, 0.0000e+00, 1.0000e+00, 0.0000e+00, 0.0000e+00,\n",
              "        0.0000e+00, 0.0000e+00, 0.0000e+00, 0.0000e+00, 0.0000e+00,\n",
              "        0.0000e+00, 0.0000e+00, 0.0000e+00, 0.0000e+00, 0.0000e+00,\n",
              "        0.0000e+00, 0.0000e+00, 0.0000e+00, 0.0000e+00, 1.0000e+00,\n",
              "        1.0000e+00, 0.0000e+00, 0.0000e+00, 0.0000e+00, 1.0000e+00,\n",
              "        0.0000e+00, 0.0000e+00, 0.0000e+00, 0.0000e+00, 0.0000e+00,\n",
              "        0.0000e+00, 0.0000e+00, 0.0000e+00, 0.0000e+00, 0.0000e+00,\n",
              "        0.0000e+00, 0.0000e+00, 0.0000e+00, 1.0000e+00, 0.0000e+00,\n",
              "        0.0000e+00, 0.0000e+00, 0.0000e+00, 1.0000e+00, 0.0000e+00,\n",
              "        0.0000e+00, 0.0000e+00, 0.0000e+00]])"
            ]
          },
          "metadata": {
            "tags": []
          },
          "execution_count": 321
        }
      ]
    },
    {
      "cell_type": "code",
      "metadata": {
        "id": "lm2Ma4Ka--c1"
      },
      "source": [
        "new_customer = scaler.transform(new_customer.values.reshape(-1,78))"
      ],
      "execution_count": null,
      "outputs": []
    },
    {
      "cell_type": "code",
      "metadata": {
        "colab": {
          "base_uri": "https://localhost:8080/"
        },
        "id": "8BX3aump_k7s",
        "outputId": "07709640-8e49-4b3f-dcaf-f687ef6efcb9"
      },
      "source": [
        "new_customer"
      ],
      "execution_count": null,
      "outputs": [
        {
          "output_type": "execute_result",
          "data": {
            "text/plain": [
              "array([[0.61538462, 1.        , 0.50331126, 0.40836493, 0.00708257,\n",
              "        0.0030113 , 0.75362319, 0.2       , 0.        , 0.01593446,\n",
              "        0.07340581, 0.29530201, 0.        , 0.        , 0.        ,\n",
              "        0.        , 0.        , 0.        , 0.        , 0.        ,\n",
              "        0.        , 0.        , 0.        , 0.        , 0.        ,\n",
              "        0.        , 0.        , 0.        , 0.        , 0.        ,\n",
              "        0.        , 0.        , 1.        , 0.        , 0.        ,\n",
              "        0.        , 0.        , 0.        , 0.        , 0.        ,\n",
              "        0.        , 0.        , 0.        , 0.        , 0.        ,\n",
              "        0.        , 0.        , 0.        , 0.        , 1.        ,\n",
              "        1.        , 0.        , 0.        , 0.        , 1.        ,\n",
              "        0.        , 0.        , 0.        , 0.        , 0.        ,\n",
              "        0.        , 0.        , 0.        , 0.        , 0.        ,\n",
              "        0.        , 0.        , 0.        , 1.        , 0.        ,\n",
              "        0.        , 0.        , 0.        , 1.        , 0.        ,\n",
              "        0.        , 0.        , 0.        ]])"
            ]
          },
          "metadata": {
            "tags": []
          },
          "execution_count": 323
        }
      ]
    },
    {
      "cell_type": "code",
      "metadata": {
        "colab": {
          "base_uri": "https://localhost:8080/"
        },
        "id": "9YW3Y5Uv_ox4",
        "outputId": "ebbecc53-40dd-4e33-f544-66ef93c1e0b4"
      },
      "source": [
        "model.predict_classes(new_customer)"
      ],
      "execution_count": null,
      "outputs": [
        {
          "output_type": "stream",
          "text": [
            "/usr/local/lib/python3.7/dist-packages/tensorflow/python/keras/engine/sequential.py:455: UserWarning: `model.predict_classes()` is deprecated and will be removed after 2021-01-01. Please use instead:* `np.argmax(model.predict(x), axis=-1)`,   if your model does multi-class classification   (e.g. if it uses a `softmax` last-layer activation).* `(model.predict(x) > 0.5).astype(\"int32\")`,   if your model does binary classification   (e.g. if it uses a `sigmoid` last-layer activation).\n",
            "  warnings.warn('`model.predict_classes()` is deprecated and '\n"
          ],
          "name": "stderr"
        },
        {
          "output_type": "execute_result",
          "data": {
            "text/plain": [
              "array([[1]], dtype=int32)"
            ]
          },
          "metadata": {
            "tags": []
          },
          "execution_count": 324
        }
      ]
    },
    {
      "cell_type": "markdown",
      "metadata": {
        "id": "968RazogAVHW"
      },
      "source": [
        "Task:\n",
        "\n",
        "Now we are going to check, did this person actually end up by paying back his loan ?"
      ]
    },
    {
      "cell_type": "code",
      "metadata": {
        "colab": {
          "base_uri": "https://localhost:8080/"
        },
        "id": "OJZD_y0M__Y1",
        "outputId": "ebe1db76-e90e-48da-df23-621872774da5"
      },
      "source": [
        "df.iloc[random_ind]['loan_repaid']"
      ],
      "execution_count": null,
      "outputs": [
        {
          "output_type": "execute_result",
          "data": {
            "text/plain": [
              "1.0"
            ]
          },
          "metadata": {
            "tags": []
          },
          "execution_count": 325
        }
      ]
    },
    {
      "cell_type": "markdown",
      "metadata": {
        "id": "LzH4k37hBHS8"
      },
      "source": [
        "In this particular case, we can see that our model predicted the correct result. "
      ]
    },
    {
      "cell_type": "code",
      "metadata": {
        "id": "LES5V8YrAxD4"
      },
      "source": [
        "model.save('my_favourite_model.h5')"
      ],
      "execution_count": null,
      "outputs": []
    },
    {
      "cell_type": "code",
      "metadata": {
        "id": "pCIv8gd7KCSb"
      },
      "source": [
        ""
      ],
      "execution_count": null,
      "outputs": []
    }
  ]
}